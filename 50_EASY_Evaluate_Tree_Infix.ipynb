{
  "nbformat": 4,
  "nbformat_minor": 0,
  "metadata": {
    "colab": {
      "name": "50_EASY_Evaluate_Tree_Infix.ipynb",
      "provenance": [],
      "collapsed_sections": [],
      "authorship_tag": "ABX9TyM3vjS7Nm+iYB81DWKzamcg",
      "include_colab_link": true
    },
    "kernelspec": {
      "name": "python3",
      "display_name": "Python 3"
    }
  },
  "cells": [
    {
      "cell_type": "markdown",
      "metadata": {
        "id": "view-in-github",
        "colab_type": "text"
      },
      "source": [
        "<a href=\"https://colab.research.google.com/github/anuragbisht12/Daily-Coding-Problems/blob/master/50_EASY_Evaluate_Tree_Infix.ipynb\" target=\"_parent\"><img src=\"https://colab.research.google.com/assets/colab-badge.svg\" alt=\"Open In Colab\"/></a>"
      ]
    },
    {
      "cell_type": "markdown",
      "metadata": {
        "id": "RU7Ek-iPUyFX",
        "colab_type": "text"
      },
      "source": [
        "Good morning! Here's your coding interview problem for today.\n",
        "\n",
        "This problem was asked by Microsoft.\n",
        "\n",
        "Suppose an arithmetic expression is given as a binary tree. Each leaf is an integer and each internal node is one of '+', '−', '∗', or '/'.\n",
        "\n",
        "Given the root to such a tree, write a function to evaluate it.\n",
        "\n",
        "You should return 45, as it is (3 + 2) * (4 + 5)."
      ]
    },
    {
      "cell_type": "code",
      "metadata": {
        "id": "B4ZNSVgqUxSe",
        "colab_type": "code",
        "colab": {
          "base_uri": "https://localhost:8080/",
          "height": 34
        },
        "outputId": "5fd7de56-ff4a-42ac-f323-9306b65efd7c"
      },
      "source": [
        "# O(N) time , O(N) space\n",
        "class Node:\n",
        "  def __init__(self,value):\n",
        "    self.value=value\n",
        "    self.left=None\n",
        "    self.right=None\n",
        "  \n",
        "\n",
        "def solveTree(graph):\n",
        "  if graph.value.isnumeric():\n",
        "    return float(graph.value)\n",
        "  return eval(\"{} {} {}\".format(solveTree(graph.left),graph.value,solveTree(graph.right)))\n",
        "\n",
        "\n",
        "a=Node(\"*\")\n",
        "b=Node(\"+\")\n",
        "c=Node(\"+\")\n",
        "d=Node(\"3\")\n",
        "e=Node(\"2\")\n",
        "f=Node(\"4\")\n",
        "g=Node(\"5\")\n",
        "\n",
        "a.left=b\n",
        "a.right=c\n",
        "b.left=d\n",
        "b.right=e\n",
        "c.left=f\n",
        "c.right=g\n",
        "\n",
        "print(solveTree(a))"
      ],
      "execution_count": 5,
      "outputs": [
        {
          "output_type": "stream",
          "text": [
            "45.0\n"
          ],
          "name": "stdout"
        }
      ]
    }
  ]
}
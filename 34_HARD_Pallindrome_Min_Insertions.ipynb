{
  "nbformat": 4,
  "nbformat_minor": 0,
  "metadata": {
    "colab": {
      "name": "34_HARD_Pallindrome_Min_Insertions.ipynb",
      "provenance": [],
      "collapsed_sections": [],
      "authorship_tag": "ABX9TyNQeK01ou++gEr8x9OyDtAE",
      "include_colab_link": true
    },
    "kernelspec": {
      "name": "python3",
      "display_name": "Python 3"
    }
  },
  "cells": [
    {
      "cell_type": "markdown",
      "metadata": {
        "id": "view-in-github",
        "colab_type": "text"
      },
      "source": [
        "<a href=\"https://colab.research.google.com/github/anuragbisht12/Daily-Coding-Problems/blob/master/34_HARD_Pallindrome_Min_Insertions.ipynb\" target=\"_parent\"><img src=\"https://colab.research.google.com/assets/colab-badge.svg\" alt=\"Open In Colab\"/></a>"
      ]
    },
    {
      "cell_type": "code",
      "metadata": {
        "id": "dTHP2r5kylRQ",
        "colab_type": "code",
        "colab": {}
      },
      "source": [
        "def findMinInsertions(str, l, h):\n",
        "\n",
        "    # Base Cases\n",
        "    if (l > h):\n",
        "        return sys.maxsize\n",
        "    if (l == h):\n",
        "        return 0\n",
        "    if (l == h - 1):\n",
        "        return 0 if(str[l] == str[h]) else 1\n",
        "\n",
        "    # Check if the first and last characters are\n",
        "    # same. On the basis of the comparison result,\n",
        "    # decide which subrpoblem(s) to call\n",
        "\n",
        "    if(str[l] == str[h]):\n",
        "        return findMinInsertions(str, l + 1, h - 1)\n",
        "    else:\n",
        "        return (min(findMinInsertions(str, l, h - 1),\n",
        "                    findMinInsertions(str, l + 1, h)) + 1)\n",
        "\n",
        "\n",
        "# Driver Code\n",
        "if __name__ == \"__main__\":\n",
        "\n",
        "    str = \"aabcd \"\n",
        "    print(findMinInsertions(str, 0, len(str) - 1))\n"
      ],
      "execution_count": null,
      "outputs": []
    },
    {
      "cell_type": "code",
      "metadata": {
        "id": "9aR2OIeAymc5",
        "colab_type": "code",
        "colab": {}
      },
      "source": [
        "#include<iostream>\n",
        "using namespace std;\n",
        "\n",
        "int min(int a, int b){\n",
        "    return (a>b)? a:b;\n",
        "}\n",
        "\n",
        "int solve(char str[], int l, int h){\n",
        "    if (l>h) return INT_MAX;\n",
        "    if (l==h) return 0;\n",
        "    if (l==h-1) return (str[l]==str[h])?0:1;\n",
        "\n",
        "    return (str[l]==str[h])?solve(str,l++,h--):(min(solve(str,l,h-1),solve(str,l+1,h)+1));\n",
        "}\n",
        "\n",
        "int main()\n",
        "{\n",
        "    char str[]='geeks'\n",
        "    count<<solve(str,0, strlen(str)-1);\n",
        "    return 0;\n",
        "}"
      ],
      "execution_count": null,
      "outputs": []
    }
  ]
}
{
  "nbformat": 4,
  "nbformat_minor": 0,
  "metadata": {
    "colab": {
      "name": "33_Easy_Heap.ipynb",
      "provenance": [],
      "collapsed_sections": [],
      "authorship_tag": "ABX9TyPsr0cuoS7ti6gSQoG2LslG",
      "include_colab_link": true
    },
    "kernelspec": {
      "name": "python3",
      "display_name": "Python 3"
    }
  },
  "cells": [
    {
      "cell_type": "markdown",
      "metadata": {
        "id": "view-in-github",
        "colab_type": "text"
      },
      "source": [
        "<a href=\"https://colab.research.google.com/github/anuragbisht12/Daily-Coding-Problems/blob/master/33_Easy_Heap.ipynb\" target=\"_parent\"><img src=\"https://colab.research.google.com/assets/colab-badge.svg\" alt=\"Open In Colab\"/></a>"
      ]
    },
    {
      "cell_type": "code",
      "metadata": {
        "id": "mY49IouY_iaS",
        "colab_type": "code",
        "colab": {}
      },
      "source": [
        "\"\"\"\n",
        "This problem was asked by Microsoft.\n",
        "\n",
        "Compute the running median of a sequence of numbers. That is, given a stream of numbers, print out the median of the list so far on each new element.\n",
        "\n",
        "Recall that the median of an even-numbered list is the average of the two middle numbers.\n",
        "\n",
        "For example, given the sequence [2, 1, 5, 7, 2, 0, 5], your algorithm should print out:\n",
        "2\n",
        "1.5\n",
        "2\n",
        "3.5\n",
        "2\n",
        "2\n",
        "2\n",
        "\"\"\"\n",
        "\n",
        "import heapq as hq\n",
        "\n",
        "def solve(arr):\n",
        "    if not arr:\n",
        "        return None\n",
        "    min_heap=list()\n",
        "    max_heap=list()\n",
        "    medians=list()\n",
        "\n",
        "    for x in arr:\n",
        "        hq.heappush(min_heap,x)\n",
        "        if len(min_heap)>len(max_heap)+1:\n",
        "            smallest_large_element=hq.heappop(min_heap)\n",
        "            hq.heappush(max_heap,-smallest_large_element)\n",
        "        if len(min_heap)==len(max_heap):\n",
        "            median=(min_heap[0]-max_heap[0])/2\n",
        "        else:\n",
        "            median=min_heap[0]\n",
        "        medians.append(median)\n",
        "    \n",
        "    return medians\n",
        "\n",
        "if __name__ == \"__main__\":\n",
        "\n",
        "    sequence = [2, 1, 5, 7, 2, 0, 5]\n",
        "    print(solve(sequence))\n",
        "\n",
        "# 2     \n",
        "# 2      -1\n",
        "\n",
        "# 2 5     -1\n",
        "\n",
        "# 5 7     -2 -1\n",
        "\n",
        "# 2 5 7   -2 -1\n",
        "\n",
        "# 2 5 7   -2 -1 0"
      ],
      "execution_count": null,
      "outputs": []
    }
  ]
}
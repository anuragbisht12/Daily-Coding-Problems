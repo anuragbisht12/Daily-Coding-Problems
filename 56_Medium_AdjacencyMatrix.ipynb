{
  "nbformat": 4,
  "nbformat_minor": 0,
  "metadata": {
    "colab": {
      "name": "56_Medium_AdjacencyMatrix.ipynb",
      "provenance": [],
      "collapsed_sections": [],
      "authorship_tag": "ABX9TyMIPoDQQHmtgy8Iybwhl/7R",
      "include_colab_link": true
    },
    "kernelspec": {
      "name": "python3",
      "display_name": "Python 3"
    }
  },
  "cells": [
    {
      "cell_type": "markdown",
      "metadata": {
        "id": "view-in-github",
        "colab_type": "text"
      },
      "source": [
        "<a href=\"https://colab.research.google.com/github/anuragbisht12/Daily-Coding-Problems/blob/master/56_Medium_AdjacencyMatrix.ipynb\" target=\"_parent\"><img src=\"https://colab.research.google.com/assets/colab-badge.svg\" alt=\"Open In Colab\"/></a>"
      ]
    },
    {
      "cell_type": "markdown",
      "metadata": {
        "id": "QTCEAlZ3KMiS",
        "colab_type": "text"
      },
      "source": [
        "This problem was asked by Google.\n",
        "\n",
        "Given an undirected graph represented as an adjacency matrix and an integer k, write a function to determine whether each vertex in the graph can be colored such that no two adjacent vertices share the same color using at most k colors."
      ]
    },
    {
      "cell_type": "code",
      "metadata": {
        "id": "0ccc6xbAKO3b",
        "colab_type": "code",
        "colab": {}
      },
      "source": [
        "class Graph:\n",
        "    def __init__(self,vertices):\n",
        "        self.V=vertices\n",
        "        self.graph=[[0 for column in range(vertices)] for row in range(vertices)]\n",
        "    \n",
        "    # check if color assignment is safe for vertex v\n",
        "    def isSafe(self,v,color,c):\n",
        "        for i in range(self.V):\n",
        "            if self.graph[v][i]==1 and color[i]==c:\n",
        "                return False\n",
        "        return True\n",
        "\n",
        "    # recursive bracktracking function\n",
        "    def graphColorUtil(self,m,color,v):\n",
        "        if v==self.V:\n",
        "            return True\n",
        "        \n",
        "        for c in range(1,m+1):\n",
        "            if self.isSafe(v,color,c) ==True:\n",
        "                color[v]=c\n",
        "                if self.graphColorUtil(m,color,v+1)==True:\n",
        "                    return True\n",
        "                color[v]=0\n",
        "\n",
        "\n",
        "\n",
        "\n",
        "    def graphColoring(self,m):\n",
        "        color=[0]*self.V\n",
        "        if self.graphColorUtil(m,color,0) == None:\n",
        "            return False\n",
        "        \n",
        "        print(color)\n",
        "        return True\n",
        "\n",
        "if __name__ == \"__main__\":\n",
        "    graphObject=Graph(4)\n",
        "    graphObject.graph = [[0, 1, 1, 1], [\n",
        "        1, 0, 1, 0], [1, 1, 0, 1], [1, 0, 1, 0]]\n",
        "    graphObject.graphColoring(3)"
      ],
      "execution_count": null,
      "outputs": []
    }
  ]
}
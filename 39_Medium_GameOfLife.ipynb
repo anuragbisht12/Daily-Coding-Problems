{
  "nbformat": 4,
  "nbformat_minor": 0,
  "metadata": {
    "colab": {
      "name": "39_Medium_GameOfLife.ipynb",
      "provenance": [],
      "collapsed_sections": [],
      "authorship_tag": "ABX9TyO25pWHGgDPDxt1VQg1KnbV",
      "include_colab_link": true
    },
    "kernelspec": {
      "name": "python3",
      "display_name": "Python 3"
    }
  },
  "cells": [
    {
      "cell_type": "markdown",
      "metadata": {
        "id": "view-in-github",
        "colab_type": "text"
      },
      "source": [
        "<a href=\"https://colab.research.google.com/github/anuragbisht12/Daily-Coding-Problems/blob/master/39_Medium_GameOfLife.ipynb\" target=\"_parent\"><img src=\"https://colab.research.google.com/assets/colab-badge.svg\" alt=\"Open In Colab\"/></a>"
      ]
    },
    {
      "cell_type": "markdown",
      "metadata": {
        "id": "cMorQk71tMAW",
        "colab_type": "text"
      },
      "source": [
        "This problem was asked by Dropbox.\n",
        "\n",
        "Conway's Game of Life takes place on an infinite two-dimensional board of square cells. Each cell is either dead or alive, and at each tick, the following rules apply:\n",
        "\n",
        "Any live cell with less than two live neighbours dies.\n",
        "Any live cell with two or three live neighbours remains living.\n",
        "Any live cell with more than three live neighbours dies.\n",
        "Any dead cell with exactly three live neighbours becomes a live cell.\n",
        "A cell neighbours another cell if it is horizontally, vertically, or diagonally adjacent.\n",
        "\n",
        "Implement Conway's Game of Life. It should be able to be initialized with a starting list of live cell coordinates and the number of steps it should run for. Once initialized, it should print out the board state at each step. Since it's an infinite board, print out only the relevant coordinates, i.e. from the top-leftmost live cell to bottom-rightmost live cell.\n",
        "\n",
        "You can represent a live cell with an asterisk (*) and a dead cell with a dot (.)."
      ]
    },
    {
      "cell_type": "code",
      "metadata": {
        "id": "iV4KaELytDpY",
        "colab_type": "code",
        "colab": {}
      },
      "source": [
        "# O(mn) time | O(1) space\n",
        "class Solution:\n",
        "    def gameOfLife(self, board: List[List[int]]) -> None:\n",
        "        \"\"\"\n",
        "        Do not return anything, modify board in-place instead.\n",
        "        \"\"\"\n",
        "        # Neighbors array to find 8 neighboring cells for a given cell\n",
        "        neighbors = [(1, 0), (1, -1), (0, -1), (-1, -1),\n",
        "                     (-1, 0), (-1, 1), (0, 1), (1, 1)]\n",
        "\n",
        "        rows = len(board)\n",
        "        cols = len(board[0])\n",
        "\n",
        "        # Iterate through board cell by cell.\n",
        "        for row in range(rows):\n",
        "            for col in range(cols):\n",
        "\n",
        "                # For each cell count the number of live neighbors.\n",
        "                live_neighbors = 0\n",
        "                for neighbor in neighbors:\n",
        "\n",
        "                    # row and column of the neighboring cell\n",
        "                    r = (row + neighbor[0])\n",
        "                    c = (col + neighbor[1])\n",
        "\n",
        "                    # Check the validity of the neighboring cell and if it was originally a live cell.\n",
        "                    if (r < rows and r >= 0) and (c < cols and c >= 0) and abs(board[r][c]) == 1:\n",
        "                        live_neighbors += 1\n",
        "\n",
        "                # Rule 1 or Rule 3\n",
        "                if board[row][col] == 1 and (live_neighbors < 2 or live_neighbors > 3):\n",
        "                    # -1 signifies the cell is now dead but originally was live.\n",
        "                    board[row][col] = -1\n",
        "                # Rule 4\n",
        "                if board[row][col] == 0 and live_neighbors == 3:\n",
        "                    # 2 signifies the cell is now live but was originally dead.\n",
        "                    board[row][col] = 2\n",
        "\n",
        "        # Get the final representation for the newly updated board.\n",
        "        for row in range(rows):\n",
        "            for col in range(cols):\n",
        "                if board[row][col] > 0:\n",
        "                    board[row][col] = 1\n",
        "                else:\n",
        "                    board[row][col] = 0\n"
      ],
      "execution_count": null,
      "outputs": []
    }
  ]
}
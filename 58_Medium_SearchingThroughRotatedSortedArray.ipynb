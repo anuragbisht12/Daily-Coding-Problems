{
  "nbformat": 4,
  "nbformat_minor": 0,
  "metadata": {
    "colab": {
      "name": "58_Medium_SearchingThroughRotatedSortedArray.ipynb",
      "provenance": [],
      "collapsed_sections": [],
      "authorship_tag": "ABX9TyO3R4v+QJkmOs+xMGM2HEx4",
      "include_colab_link": true
    },
    "kernelspec": {
      "name": "python3",
      "display_name": "Python 3"
    }
  },
  "cells": [
    {
      "cell_type": "markdown",
      "metadata": {
        "id": "view-in-github",
        "colab_type": "text"
      },
      "source": [
        "<a href=\"https://colab.research.google.com/github/anuragbisht12/Daily-Coding-Problems/blob/master/58_Medium_SearchingThroughRotatedSortedArray.ipynb\" target=\"_parent\"><img src=\"https://colab.research.google.com/assets/colab-badge.svg\" alt=\"Open In Colab\"/></a>"
      ]
    },
    {
      "cell_type": "markdown",
      "metadata": {
        "id": "-Sczu9zBOQAL",
        "colab_type": "text"
      },
      "source": [
        "This problem was asked by Amazon.\n",
        "\n",
        "An sorted array of integers was rotated an unknown number of times.\n",
        "\n",
        "Given such an array, find the index of the element in the array in faster than linear time. If the element doesn't exist in the array, return null.\n",
        "\n",
        "For example, given the array [13, 18, 25, 2, 8, 10] and the element 8, return 4 (the index of 8 in the array).\n",
        "\n",
        "You can assume all the integers in the array are unique."
      ]
    },
    {
      "cell_type": "code",
      "metadata": {
        "id": "kbnNTU51OLw0",
        "colab_type": "code",
        "colab": {}
      },
      "source": [
        "def find_element(arr, element, start, end):\n",
        "\n",
        "    if start == end:\n",
        "        return\n",
        "\n",
        "    mid = start + ((end - start) // 2)\n",
        "    print('mid:',mid)\n",
        "    print(start,end)\n",
        "    if arr[mid] == element:\n",
        "        return mid\n",
        "    elif arr[mid] > element:\n",
        "        if arr[start] >= element:\n",
        "            print('hello')\n",
        "            return find_element(arr, element, start, mid)\n",
        "        else:\n",
        "            return find_element(arr, element, mid, end)\n",
        "    elif arr[mid] < element:\n",
        "        if arr[start] <= element:\n",
        "            return find_element(arr, element, start, mid)\n",
        "        else:\n",
        "            return find_element(arr, element, mid, end)\n",
        "\n",
        "\n",
        "\n",
        "if __name__ == \"__main__\":\n",
        "    arr = [13, 18, 25, 2, 8, 10]\n",
        "    element=8\n",
        "    element_pos = find_element(arr, element, 0, len(arr))\n",
        "    print(element_pos)\n"
      ],
      "execution_count": null,
      "outputs": []
    }
  ]
}
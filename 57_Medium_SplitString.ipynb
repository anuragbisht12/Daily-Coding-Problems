{
  "nbformat": 4,
  "nbformat_minor": 0,
  "metadata": {
    "colab": {
      "name": "57_Medium_SplitString.ipynb",
      "provenance": [],
      "collapsed_sections": [],
      "authorship_tag": "ABX9TyNN1cmfMPNev6tWt8ndSJ2v",
      "include_colab_link": true
    },
    "kernelspec": {
      "name": "python3",
      "display_name": "Python 3"
    }
  },
  "cells": [
    {
      "cell_type": "markdown",
      "metadata": {
        "id": "view-in-github",
        "colab_type": "text"
      },
      "source": [
        "<a href=\"https://colab.research.google.com/github/anuragbisht12/Daily-Coding-Problems/blob/master/57_Medium_SplitString.ipynb\" target=\"_parent\"><img src=\"https://colab.research.google.com/assets/colab-badge.svg\" alt=\"Open In Colab\"/></a>"
      ]
    },
    {
      "cell_type": "markdown",
      "metadata": {
        "id": "I_F1sDbxI3P_",
        "colab_type": "text"
      },
      "source": [
        "This problem was asked by Amazon.\n",
        "\n",
        "Given a string s and an integer k, break up the string into multiple lines such that each line has a length of k or less. You must break it up so that words don't break across lines. Each line has to have the maximum possible amount of words. If there's no way to break the text up, then return null.\n",
        "\n",
        "You can assume that there are no spaces at the ends of the string and that there is exactly one space between each word.\n",
        "\n",
        "For example, given the string \"the quick brown fox jumps over the lazy dog\" and k = 10, you should return: [\"the quick\", \"brown fox\", \"jumps over\", \"the lazy\", \"dog\"]. No string in the list has a length of more than 10."
      ]
    },
    {
      "cell_type": "code",
      "metadata": {
        "id": "b7PC-sDKI1Xz",
        "colab_type": "code",
        "colab": {}
      },
      "source": [
        "def breakString(s:str, k: int)-> []:\n",
        "    words=s.split()\n",
        "    index=0\n",
        "    currentWords=[]\n",
        "    document=[]\n",
        "    charCounter=-1\n",
        "    while index < len(words):\n",
        "        word=words[index]\n",
        "\n",
        "        if len(word)>k:\n",
        "            return None\n",
        "        \n",
        "        if charCounter + len(word)+1<=k:\n",
        "            currentWords.append(word)\n",
        "            charCounter+=len(word)+1\n",
        "            index+=1\n",
        "            print(currentWords)\n",
        "        else:\n",
        "            print('join')\n",
        "            document.append(\" \".join(currentWords))\n",
        "            print(document)\n",
        "            charCounter=-1\n",
        "            currentWords=[]\n",
        "\n",
        "    document.extend(currentWords)\n",
        "    return document\n",
        "\n",
        "if __name__ == \"__main__\":\n",
        "    k=10\n",
        "    s=\"the quick brown fox jumps over the lazy dog\"\n",
        "    print(breakString(s,k))\n",
        "\n",
        "\n"
      ],
      "execution_count": null,
      "outputs": []
    }
  ]
}
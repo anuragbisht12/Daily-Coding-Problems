{
  "nbformat": 4,
  "nbformat_minor": 0,
  "metadata": {
    "colab": {
      "name": "55_Easy_URLShortner.ipynb",
      "provenance": [],
      "collapsed_sections": [],
      "authorship_tag": "ABX9TyPtl60n4SobP2qTUD6xnWzr",
      "include_colab_link": true
    },
    "kernelspec": {
      "name": "python3",
      "display_name": "Python 3"
    }
  },
  "cells": [
    {
      "cell_type": "markdown",
      "metadata": {
        "id": "view-in-github",
        "colab_type": "text"
      },
      "source": [
        "<a href=\"https://colab.research.google.com/github/anuragbisht12/Daily-Coding-Problems/blob/master/55_Easy_URLShortner.ipynb\" target=\"_parent\"><img src=\"https://colab.research.google.com/assets/colab-badge.svg\" alt=\"Open In Colab\"/></a>"
      ]
    },
    {
      "cell_type": "code",
      "metadata": {
        "id": "dMIQvyg3h3n2",
        "colab_type": "code",
        "colab": {}
      },
      "source": [
        "import hashlib\n",
        "\n",
        "class URLShortner:\n",
        "    def __init__(self):\n",
        "        self.keyValueStore=dict()\n",
        "        self.m=hashlib.sha256\n",
        "        self.prefix=\"http://url.short/\"\n",
        "    \n",
        "    def shortenURL(self,URL:str)->str:\n",
        "        shaSignature=self.m(URL.encode()).hexdigest()\n",
        "        shortHash=shaSignature[:6]\n",
        "        self.keyValueStore[shortHash]=URL\n",
        "        print(self.keyValueStore)\n",
        "        return self.prefix+shortHash\n",
        "    \n",
        "    def restoreURL(self,URL):\n",
        "        shortHash=URL.replace(self.prefix,\"\")\n",
        "        return self.keyValueStore[shortHash]\n",
        "\n",
        "\n",
        "if __name__ == \"__main__\":\n",
        "    url=URLShortner()\n",
        "    print(url.shortenURL('abcdedffffefeafafaafa.com'))\n",
        "\n",
        "    print(url.restoreURL('http://url.short/892ff4'))\n"
      ],
      "execution_count": null,
      "outputs": []
    }
  ]
}
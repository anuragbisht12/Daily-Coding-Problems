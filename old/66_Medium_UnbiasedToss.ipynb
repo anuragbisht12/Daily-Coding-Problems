{
  "nbformat": 4,
  "nbformat_minor": 0,
  "metadata": {
    "colab": {
      "name": "66_Medium_UnbiasedToss.ipynb",
      "provenance": [],
      "collapsed_sections": [],
      "authorship_tag": "ABX9TyNc+3UNxa5lg6YQmieYOrRl",
      "include_colab_link": true
    },
    "kernelspec": {
      "name": "python3",
      "display_name": "Python 3"
    }
  },
  "cells": [
    {
      "cell_type": "markdown",
      "metadata": {
        "id": "view-in-github",
        "colab_type": "text"
      },
      "source": [
        "<a href=\"https://colab.research.google.com/github/anuragbisht12/Daily-Coding-Problems/blob/master/66_Medium_UnbiasedToss.ipynb\" target=\"_parent\"><img src=\"https://colab.research.google.com/assets/colab-badge.svg\" alt=\"Open In Colab\"/></a>"
      ]
    },
    {
      "cell_type": "code",
      "metadata": {
        "id": "0ieo3AlOpk-R",
        "colab_type": "code",
        "colab": {}
      },
      "source": [
        "\"\"\"\n",
        "This problem was asked by Square.\n",
        "\n",
        "Assume you have access to a function toss_biased() which returns 0 or 1 with a probability \n",
        "that's not 50-50 (but also not 0-100 or 100-0). You do not know the bias of the coin.\n",
        "\n",
        "Write a function to simulate an unbiased coin toss.\n",
        "\"\"\"\n",
        "import random\n",
        "\n",
        "def toss_biased():\n",
        "    return (0 if random.randrange(0,100,10) < 70 else 1)\n",
        "\n",
        "def unbiased_toss():\n",
        "    toss1=toss_biased()\n",
        "    toss2=toss_biased()\n",
        "\n",
        "    if toss1==0 and toss2==1:\n",
        "        return 0\n",
        "    elif toss1 ==1 and toss2==0:\n",
        "        return 1\n",
        "        \n",
        "    return unbiased_toss()\n",
        "\n",
        "if __name__ == \"__main__\":\n",
        "    print(unbiased_toss())"
      ],
      "execution_count": null,
      "outputs": []
    }
  ]
}
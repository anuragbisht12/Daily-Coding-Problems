{
  "nbformat": 4,
  "nbformat_minor": 0,
  "metadata": {
    "colab": {
      "name": "37_Easy_Powerset.ipynb",
      "provenance": [],
      "collapsed_sections": [],
      "authorship_tag": "ABX9TyOYazyKbbWHKV51z80a6eJ+",
      "include_colab_link": true
    },
    "kernelspec": {
      "name": "python3",
      "display_name": "Python 3"
    }
  },
  "cells": [
    {
      "cell_type": "markdown",
      "metadata": {
        "id": "view-in-github",
        "colab_type": "text"
      },
      "source": [
        "<a href=\"https://colab.research.google.com/github/anuragbisht12/Daily-Coding-Problems/blob/master/37_Easy_Powerset.ipynb\" target=\"_parent\"><img src=\"https://colab.research.google.com/assets/colab-badge.svg\" alt=\"Open In Colab\"/></a>"
      ]
    },
    {
      "cell_type": "code",
      "metadata": {
        "id": "wgGTteNFzY4l",
        "colab_type": "code",
        "colab": {}
      },
      "source": [
        "\"\"\"\n",
        "This problem was asked by Google.\n",
        "\n",
        "The power set of a set is the set of all its subsets. Write a function that, given a set, generates its power set.\n",
        "\n",
        "For example, given the set {1, 2, 3}, it should return {{}, {1}, {2}, {3}, {1, 2}, {1, 3}, {2, 3}, {1, 2, 3}}\n",
        "\n",
        "\"\"\"\n",
        "def powerset(array):\n",
        "    arr=[[]]\n",
        "    j=0\n",
        "    for j in range(0,len(array)):\n",
        "        for i in range(j,len(array)):\n",
        "            arr.append(array[j:i+1])\n",
        "    return arr\n",
        "    \n",
        "\n",
        "\n",
        "if __name__ == \"__main__\":\n",
        "    array=[1,2,3]\n",
        "    print(powerset(array))"
      ],
      "execution_count": null,
      "outputs": []
    }
  ]
}
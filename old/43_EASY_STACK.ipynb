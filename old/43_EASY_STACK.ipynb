{
  "nbformat": 4,
  "nbformat_minor": 0,
  "metadata": {
    "colab": {
      "name": "43_EASY_STACK.ipynb",
      "provenance": [],
      "collapsed_sections": [],
      "authorship_tag": "ABX9TyPo8ucHfqe2QCZv2QRDHeBp",
      "include_colab_link": true
    },
    "kernelspec": {
      "name": "python3",
      "display_name": "Python 3"
    }
  },
  "cells": [
    {
      "cell_type": "markdown",
      "metadata": {
        "id": "view-in-github",
        "colab_type": "text"
      },
      "source": [
        "<a href=\"https://colab.research.google.com/github/anuragbisht12/Daily-Coding-Problems/blob/master/43_EASY_STACK.ipynb\" target=\"_parent\"><img src=\"https://colab.research.google.com/assets/colab-badge.svg\" alt=\"Open In Colab\"/></a>"
      ]
    },
    {
      "cell_type": "markdown",
      "metadata": {
        "id": "6ZYswgCNNT5R",
        "colab_type": "text"
      },
      "source": [
        "This problem was asked by Amazon.\n",
        "\n",
        "Implement a stack that has the following methods:\n",
        "\n",
        "push(val), which pushes an element onto the stack\n",
        "pop(), which pops off and returns the topmost element of the stack. If there are no elements in the stack, then it should throw an error or return null.\n",
        "max(), which returns the maximum value in the stack currently. If there are no elements in the stack, then it should throw an error or return null.\n",
        "Each method should run in constant time."
      ]
    },
    {
      "cell_type": "code",
      "metadata": {
        "id": "2Tea84MQNR1e",
        "colab_type": "code",
        "colab": {}
      },
      "source": [
        "class Stack:\n",
        "    def __init__(self):\n",
        "        self.stack=[]\n",
        "        self.max=[]\n",
        "        self.length=0\n",
        "\n",
        "    \n",
        "    # O(1) time | O(1) space\n",
        "    def push(self,value):\n",
        "        self.stack.append(value)\n",
        "        self.length += 1\n",
        "        if self.max==[]:\n",
        "            self.max.append(value)\n",
        "        else:\n",
        "            self.max.append(max(self.max[-1],value))\n",
        "\n",
        "\n",
        "    # O(1) time | O(1) space\n",
        "    def pop(self):\n",
        "        if self.length !=0:\n",
        "            self.length -=1\n",
        "            value=self.stack.pop()\n",
        "            self.max.pop()\n",
        "        else:\n",
        "            value = -1\n",
        "        return value\n",
        "\n",
        "    # O(N) time | O(1) space\n",
        "    def show(self):\n",
        "        print(self.stack)\n",
        "        print(self.max)\n",
        "\n",
        "\n",
        "if __name__ == \"__main__\":\n",
        "    s1=Stack()\n",
        "    s1.push(1)\n",
        "    s1.push(2)\n",
        "    s1.pop()\n",
        "    s1.push(3)\n",
        "    s1.push(2)\n",
        "    assert s1.stack==[1,3,2]\n",
        "\n",
        "    s1.show()\n",
        "\n"
      ],
      "execution_count": null,
      "outputs": []
    }
  ]
}
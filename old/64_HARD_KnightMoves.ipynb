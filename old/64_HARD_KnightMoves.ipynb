{
  "nbformat": 4,
  "nbformat_minor": 0,
  "metadata": {
    "colab": {
      "name": "64_HARD_KnightMoves.ipynb",
      "provenance": [],
      "collapsed_sections": [],
      "authorship_tag": "ABX9TyMwhpiqR+QMmUyxEsm+ixbF",
      "include_colab_link": true
    },
    "kernelspec": {
      "name": "python3",
      "display_name": "Python 3"
    }
  },
  "cells": [
    {
      "cell_type": "markdown",
      "metadata": {
        "id": "view-in-github",
        "colab_type": "text"
      },
      "source": [
        "<a href=\"https://colab.research.google.com/github/anuragbisht12/Daily-Coding-Problems/blob/master/64_HARD_KnightMoves.ipynb\" target=\"_parent\"><img src=\"https://colab.research.google.com/assets/colab-badge.svg\" alt=\"Open In Colab\"/></a>"
      ]
    },
    {
      "cell_type": "code",
      "metadata": {
        "id": "K4mP8vkmYZuX",
        "colab_type": "code",
        "colab": {}
      },
      "source": [
        "\"\"\"\n",
        "This problem was asked by Google.\n",
        "\n",
        "A knight's tour is a sequence of moves by a knight on a chessboard such that all squares are visited once.\n",
        "\n",
        "Given N, write a function to return the number of knight's tours on an N by N chessboard.\n",
        "\"\"\"\n",
        "# O(n^2) space and O(8^N^2) time\n",
        "def isSafe(x, y, n, board):\n",
        "    return 0<=x<n and 0<=y<n and board[x][y]==-1\n",
        "\n",
        "\n",
        "def printSolution(n,board):\n",
        "    for i in range(n):\n",
        "        for j in range(n):\n",
        "            print(board[i][j], end=\" \")\n",
        "        print()\n",
        "\n",
        "def solve(n):\n",
        "    board=[[-1 for i in range(n)] for j in range(n)]\n",
        "\n",
        "    move_x=[2, 1, -1, -2, -2, -1, 1, 2]\n",
        "    move_y=[1, 2, 2, 1, -1, -2, -2, -1]\n",
        "\n",
        "    board[0][0]=0\n",
        "    pos=1\n",
        "\n",
        "    if not solveUtility(n,board,0,0,move_x, move_y, pos):\n",
        "        print('no solution')\n",
        "    else:\n",
        "        printSolution(n,board)\n",
        "\n",
        "\n",
        "def solveUtility(n, board, curr_x, curr_y, move_x, move_y,pos):\n",
        "    if pos == n*n:\n",
        "        return True\n",
        "\n",
        "    for i in range(8):\n",
        "        new_x=curr_x+move_x[i]\n",
        "        new_y=curr_y+move_y[i]\n",
        "\n",
        "        if isSafe(new_x,new_y,n,board):\n",
        "            board[new_x][new_y]=pos\n",
        "            if solveUtility(n,board, new_x, new_y,move_x, move_y, pos+1):\n",
        "                return True\n",
        "            \n",
        "            # BackTracking\n",
        "            board[new_x][new_y]=-1\n",
        "    \n",
        "    return False    \n",
        "\n",
        "\n",
        "if __name__ == \"__main__\":\n",
        "    solve(8)"
      ],
      "execution_count": null,
      "outputs": []
    }
  ]
}
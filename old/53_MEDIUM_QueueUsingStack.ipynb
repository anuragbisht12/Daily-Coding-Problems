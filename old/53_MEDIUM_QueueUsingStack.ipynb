{
  "nbformat": 4,
  "nbformat_minor": 0,
  "metadata": {
    "colab": {
      "name": "53_MEDIUM_QueueUsingStack.ipynb",
      "provenance": [],
      "collapsed_sections": [],
      "authorship_tag": "ABX9TyNjw7IGl8MCNm1fX8WcyRx3",
      "include_colab_link": true
    },
    "kernelspec": {
      "name": "python3",
      "display_name": "Python 3"
    }
  },
  "cells": [
    {
      "cell_type": "markdown",
      "metadata": {
        "id": "view-in-github",
        "colab_type": "text"
      },
      "source": [
        "<a href=\"https://colab.research.google.com/github/anuragbisht12/Daily-Coding-Problems/blob/master/53_MEDIUM_QueueUsingStack.ipynb\" target=\"_parent\"><img src=\"https://colab.research.google.com/assets/colab-badge.svg\" alt=\"Open In Colab\"/></a>"
      ]
    },
    {
      "cell_type": "markdown",
      "metadata": {
        "id": "GKU4tKqLyw1h",
        "colab_type": "text"
      },
      "source": [
        "This problem was asked by Apple.\n",
        "\n",
        "Implement a queue using two stacks. Recall that a queue is a FIFO (first-in, first-out) data structure with the following methods: enqueue, which inserts an element into the queue, and dequeue, which removes it."
      ]
    },
    {
      "cell_type": "code",
      "metadata": {
        "id": "LPUxXkObyu1X",
        "colab_type": "code",
        "colab": {}
      },
      "source": [
        "class  Queue:\n",
        "    def __init__(self):\n",
        "        self.mainStack=list()\n",
        "        self.auxStack=list()\n",
        "\n",
        "    # O(1) time | O(1) space\n",
        "    def enqueue(self,value):\n",
        "        self.mainStack.append(value)\n",
        "    \n",
        "    # O(n) time | O(n) space\n",
        "    def dequeue(self):\n",
        "        if self.mainStack is None:\n",
        "            return None\n",
        "        while self.mainStack:\n",
        "            self.auxStack.append(self.mainStack.pop())\n",
        "        value=self.auxStack.pop()\n",
        "        while self.auxStack:\n",
        "            self.mainStack.append(self.auxStack.pop())\n",
        "\n",
        "    def show(self):\n",
        "        return self.mainStack\n",
        "\n",
        "if __name__ == \"__main__\":\n",
        "    q=Queue()\n",
        "    q.enqueue(1)\n",
        "    q.enqueue(2)\n",
        "    q.enqueue(3)\n",
        "    q.dequeue()\n",
        "    print(q.show())"
      ],
      "execution_count": null,
      "outputs": []
    }
  ]
}
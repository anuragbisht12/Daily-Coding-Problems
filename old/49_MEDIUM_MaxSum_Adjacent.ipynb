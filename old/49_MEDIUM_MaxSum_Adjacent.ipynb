{
  "nbformat": 4,
  "nbformat_minor": 0,
  "metadata": {
    "colab": {
      "name": "49_MEDIUM_MaxSum_Adjacent.ipynb",
      "provenance": [],
      "collapsed_sections": [],
      "authorship_tag": "ABX9TyNeGvy4bsYcD/KO+Tnqj1xR",
      "include_colab_link": true
    },
    "kernelspec": {
      "name": "python3",
      "display_name": "Python 3"
    }
  },
  "cells": [
    {
      "cell_type": "markdown",
      "metadata": {
        "id": "view-in-github",
        "colab_type": "text"
      },
      "source": [
        "<a href=\"https://colab.research.google.com/github/anuragbisht12/Daily-Coding-Problems/blob/master/49_MEDIUM_MaxSum_Adjacent.ipynb\" target=\"_parent\"><img src=\"https://colab.research.google.com/assets/colab-badge.svg\" alt=\"Open In Colab\"/></a>"
      ]
    },
    {
      "cell_type": "markdown",
      "metadata": {
        "id": "0NHSAz8YfZaZ",
        "colab_type": "text"
      },
      "source": [
        "Good morning! Here's your coding interview problem for today.\n",
        "\n",
        "This problem was asked by Amazon.\n",
        "\n",
        "Given an array of numbers, find the maximum sum of any contiguous subarray of the array.\n",
        "\n",
        "For example, given the array [34, -50, 42, 14, -5, 86], the maximum sum would be 137, since we would take elements 42, 14, -5, and 86.\n",
        "\n",
        "Given the array [-5, -1, -8, -9], the maximum sum would be 0, since we would not take any elements.\n",
        "\n",
        "Do this in O(N) time."
      ]
    },
    {
      "cell_type": "code",
      "metadata": {
        "id": "ptUxkya_fbNg",
        "colab_type": "code",
        "colab": {
          "base_uri": "https://localhost:8080/",
          "height": 34
        },
        "outputId": "57b84077-0c4d-4bf1-8223-5ace478fb86f"
      },
      "source": [
        "# O(N) time | O(1) space\n",
        "def maxSum(array):\n",
        "  maxSum=array[0]\n",
        "  maxSoFar=maxSum\n",
        "  for i in range(1,len(array)):\n",
        "    maxSum=max(array[i],maxSum+array[i])\n",
        "    maxSoFar=max(maxSoFar,maxSum)\n",
        "  return maxSoFar\n",
        "\n",
        "print(maxSum([34,-50,42,14,-5,86]))"
      ],
      "execution_count": 12,
      "outputs": [
        {
          "output_type": "stream",
          "text": [
            "137\n"
          ],
          "name": "stdout"
        }
      ]
    },
    {
      "cell_type": "code",
      "metadata": {
        "id": "7kWUTzPFfXjx",
        "colab_type": "code",
        "colab": {}
      },
      "source": [
        "# Also known as Kadane's algorithm"
      ],
      "execution_count": null,
      "outputs": []
    }
  ]
}
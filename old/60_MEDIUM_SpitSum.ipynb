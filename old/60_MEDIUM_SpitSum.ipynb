{
  "nbformat": 4,
  "nbformat_minor": 0,
  "metadata": {
    "colab": {
      "name": "60_MEDIUM_SpitSum.ipynb",
      "provenance": [],
      "collapsed_sections": [],
      "authorship_tag": "ABX9TyMMnvFxSKc8VNTAglZK8RTy",
      "include_colab_link": true
    },
    "kernelspec": {
      "name": "python3",
      "display_name": "Python 3"
    }
  },
  "cells": [
    {
      "cell_type": "markdown",
      "metadata": {
        "id": "view-in-github",
        "colab_type": "text"
      },
      "source": [
        "<a href=\"https://colab.research.google.com/github/anuragbisht12/Daily-Coding-Problems/blob/master/60_MEDIUM_SpitSum.ipynb\" target=\"_parent\"><img src=\"https://colab.research.google.com/assets/colab-badge.svg\" alt=\"Open In Colab\"/></a>"
      ]
    },
    {
      "cell_type": "markdown",
      "metadata": {
        "id": "0vEM4IkgM5jE",
        "colab_type": "text"
      },
      "source": [
        "This problem was asked by Facebook.\n",
        "\n",
        "Given a multiset of integers, return whether it can be partitioned into two subsets whose sums are the same.\n",
        "\n",
        "For example, given the multiset {15, 5, 20, 10, 35, 15, 10}, it would return true, since we can split it up into {15, 5, 10, 15, 10} and {20, 35}, which both add up to 55.\n",
        "\n",
        "Given the multiset {15, 5, 20, 10, 35}, it would return false, since we can't split it up into two subsets that add up to the same sum."
      ]
    },
    {
      "cell_type": "code",
      "metadata": {
        "id": "9-GkhPjHM4fm",
        "colab_type": "code",
        "colab": {}
      },
      "source": [
        "# O(n^2) time | O(1) space\n",
        "def partitionPossible(arr:[])-> bool:\n",
        "    if len(arr)==1:\n",
        "        return False\n",
        "    arr.sort()\n",
        "    print(arr)\n",
        "    i=0\n",
        "    j=len(arr)-1\n",
        "    leftSum=0\n",
        "    rightSum=0\n",
        "    for j in reversed(range(1,len(arr))):\n",
        "        rightSum +=arr[j]\n",
        "        for i in range(j):\n",
        "            leftSum +=arr[i]\n",
        "            print(leftSum,rightSum)\n",
        "            if leftSum == rightSum:\n",
        "                return True\n",
        "        leftSum=0\n",
        "\n",
        "    return False\n",
        "\n",
        "\n",
        "if __name__ == \"__main__\":\n",
        "    arr=[15, 5, 20, 10, 35, 15, 10]\n",
        "    print(partitionPossible(arr))"
      ],
      "execution_count": null,
      "outputs": []
    },
    {
      "cell_type": "code",
      "metadata": {
        "id": "ag1W0z4-RqON",
        "colab_type": "code",
        "colab": {}
      },
      "source": [
        "def partition_helper(mset, start, end, outer_sum, inner_sum):\n",
        "    if start >= end:\n",
        "        return False\n",
        "    if outer_sum == inner_sum:\n",
        "        return True\n",
        "\n",
        "    return \\\n",
        "        partition_helper(mset, start + 1, end, outer_sum + mset[start],\n",
        "                         inner_sum - mset[start]) or \\\n",
        "        partition_helper(mset, start, end - 1, outer_sum + mset[end],\n",
        "                         inner_sum - mset[end])\n",
        "\n",
        "\n",
        "def can_partition(mset):\n",
        "    if not mset:\n",
        "        return True\n",
        "\n",
        "    if sum(mset) % 2 == 1:\n",
        "        return False\n",
        "\n",
        "    mset.sort()\n",
        "\n",
        "    return partition_helper(mset, 0, len(mset) - 1, 0, sum(mset))\n",
        "\n",
        "\n",
        "assert can_partition([15, 5, 20, 10, 35, 15, 10])\n",
        "assert not can_partition([15, 5, 20, 10, 35])\n",
        "assert can_partition([1, 2, 3, 4, 9, 1])\n",
        "assert can_partition([1, 1, 1, 1, 1, 1, 6])"
      ],
      "execution_count": null,
      "outputs": []
    }
  ]
}
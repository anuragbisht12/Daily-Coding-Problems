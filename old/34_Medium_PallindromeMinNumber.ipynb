{
  "nbformat": 4,
  "nbformat_minor": 0,
  "metadata": {
    "colab": {
      "name": "34_Medium_PallindromeMinNumber.ipynb",
      "provenance": [],
      "collapsed_sections": [],
      "authorship_tag": "ABX9TyPi4pUnfB4Bp/hJOZeUd5GG",
      "include_colab_link": true
    },
    "kernelspec": {
      "name": "python3",
      "display_name": "Python 3"
    }
  },
  "cells": [
    {
      "cell_type": "markdown",
      "metadata": {
        "id": "view-in-github",
        "colab_type": "text"
      },
      "source": [
        "<a href=\"https://colab.research.google.com/github/anuragbisht12/Daily-Coding-Problems/blob/master/34_Medium_PallindromeMinNumber.ipynb\" target=\"_parent\"><img src=\"https://colab.research.google.com/assets/colab-badge.svg\" alt=\"Open In Colab\"/></a>"
      ]
    },
    {
      "cell_type": "code",
      "metadata": {
        "id": "5clSuidemSoJ",
        "colab_type": "code",
        "colab": {}
      },
      "source": [
        "\"\"\"\n",
        "This problem was asked by Quora.\n",
        "\n",
        "Given a string, find the palindrome that can be made by inserting the fewest number of characters as possible anywhere in the word. If there is more than one palindrome of minimum length that can be made, return the lexicographically earliest one (the first one alphabetically).\n",
        "\n",
        "For example, given the string \"race\", you should return \"ecarace\", since we can add three letters to it (which is the smallest amount to make a palindrome). There are seven other palindromes that can be made from \"race\" by adding three letters, but \"ecarace\" comes first alphabetically.\n",
        "\n",
        "As another example, given the string \"google\", you should return \"elgoogle\".\n",
        "\n",
        "\n",
        "\"\"\"\n",
        "# O(nlogn) time | O(1) space\n",
        "\n",
        "\n",
        "def is_palindrome(s):\n",
        "    return s[::-1] == s\n",
        "\n",
        "def solve(s):\n",
        "\n",
        "    \n",
        "    if is_palindrome(s):\n",
        "        return s\n",
        "\n",
        "    if s[0] == s[-1]:\n",
        "        return s[0] + solve(s[1:-1]) + s[-1]\n",
        "    else:\n",
        "        pal_1 = s[0] + solve(s[1:]) + s[0]\n",
        "        pal_2 = s[-1] + solve(s[:-1]) + s[-1]\n",
        "\n",
        "        if len(pal_1) > len(pal_2):\n",
        "            return pal_2\n",
        "        elif len(pal_1) < len(pal_2):\n",
        "            return pal_1\n",
        "        return pal_1 if pal_1 < pal_2 else pal_2\n",
        "\n",
        "\n",
        "# assert get_nearest_palindrome(\"racecar\") == \"racecar\"\n",
        "# assert get_nearest_palindrome(\"google\") == \"elgoogle\"\n",
        "# assert get_nearest_palindrome(\"egoogle\") == \"elgoogle\"\n",
        "# assert get_nearest_palindrome(\"elgoog\") == \"elgoogle\"\n",
        "# assert get_nearest_palindrome(\"race\") == \"ecarace\"\n",
        "\n",
        "\n",
        "if __name__ == \"__main__\":\n",
        "    array = 'google'\n",
        "    print(solve(array))\n",
        "\n"
      ],
      "execution_count": null,
      "outputs": []
    }
  ]
}
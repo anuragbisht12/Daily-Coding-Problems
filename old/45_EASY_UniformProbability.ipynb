{
  "nbformat": 4,
  "nbformat_minor": 0,
  "metadata": {
    "colab": {
      "name": "45_EASY_UniformProbability.ipynb",
      "provenance": [],
      "collapsed_sections": [],
      "authorship_tag": "ABX9TyPfb0aDAalPgRz1NaKRtlT3",
      "include_colab_link": true
    },
    "kernelspec": {
      "name": "python3",
      "display_name": "Python 3"
    }
  },
  "cells": [
    {
      "cell_type": "markdown",
      "metadata": {
        "id": "view-in-github",
        "colab_type": "text"
      },
      "source": [
        "<a href=\"https://colab.research.google.com/github/anuragbisht12/Daily-Coding-Problems/blob/master/45_EASY_UniformProbability.ipynb\" target=\"_parent\"><img src=\"https://colab.research.google.com/assets/colab-badge.svg\" alt=\"Open In Colab\"/></a>"
      ]
    },
    {
      "cell_type": "markdown",
      "metadata": {
        "id": "kpos3ObaI7zW",
        "colab_type": "text"
      },
      "source": [
        "This problem was asked by Two Sigma.\n",
        "\n",
        "Using a function rand5() that returns an integer from 1 to 5 (inclusive) with uniform probability, implement a function rand7() that returns an integer from 1 to 7 (inclusive).\n",
        "\n"
      ]
    },
    {
      "cell_type": "code",
      "metadata": {
        "id": "OFo5Iy2OIuj6",
        "colab_type": "code",
        "colab": {}
      },
      "source": [
        "from random import randint\n",
        "def rand5():\n",
        "    return randint(1, 5)\n",
        "\n",
        "def rand7():\n",
        "    i= 5*rand5() + rand5() -5\n",
        "    if i<22:\n",
        "        return i % 7 + 1\n",
        "    return rand7()\n",
        "\n",
        "if __name__ == \"__main__\":\n",
        "    resultDict=dict()\n",
        "    for i in range(30):\n",
        "        number=rand7()\n",
        "        if number not in resultDict:\n",
        "            resultDict[number]=0\n",
        "        resultDict[number] +=1\n",
        "\n",
        "\n",
        "    [print(key,value) for key,value in resultDict.items()]"
      ],
      "execution_count": null,
      "outputs": []
    }
  ]
}
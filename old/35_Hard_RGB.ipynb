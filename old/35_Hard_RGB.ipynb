{
  "nbformat": 4,
  "nbformat_minor": 0,
  "metadata": {
    "colab": {
      "name": "35_Hard_RGB.ipynb",
      "provenance": [],
      "collapsed_sections": [],
      "authorship_tag": "ABX9TyOVYEHg6A9AGCp++thFx9Eo",
      "include_colab_link": true
    },
    "kernelspec": {
      "name": "python3",
      "display_name": "Python 3"
    }
  },
  "cells": [
    {
      "cell_type": "markdown",
      "metadata": {
        "id": "view-in-github",
        "colab_type": "text"
      },
      "source": [
        "<a href=\"https://colab.research.google.com/github/anuragbisht12/Daily-Coding-Problems/blob/master/35_Hard_RGB.ipynb\" target=\"_parent\"><img src=\"https://colab.research.google.com/assets/colab-badge.svg\" alt=\"Open In Colab\"/></a>"
      ]
    },
    {
      "cell_type": "code",
      "metadata": {
        "id": "X8-ok7VSIiNT",
        "colab_type": "code",
        "colab": {}
      },
      "source": [
        "\"\"\"\n",
        "This problem was asked by Google.\n",
        "\n",
        "Given an array of strictly the characters 'R', 'G', and 'B', segregate the values of the array so that all the Rs come first, the Gs come second, and the Bs come last. You can only swap elements of the array.\n",
        "\n",
        "Do this in linear time and in-place.\n",
        "\n",
        "For example, given the array ['G', 'B', 'R', 'R', 'B', 'R', 'G'], it should become ['R', 'R', 'R', 'G', 'G', 'B', 'B'].\n",
        "\n",
        "\n",
        "\"\"\"\n",
        "# O(n^2) time | O(1) space\n",
        "def solve(array):\n",
        "\n",
        "    leftCompare=array[0]\n",
        "    for i in range(1,len(array)-1):\n",
        "        leftCompare=array[i-1]\n",
        "        if leftCompare !=array[i]:\n",
        "            for j in range(i+1,len(array)):\n",
        "                if array[j]==leftCompare:\n",
        "                    swap(j,i,array)\n",
        "\n",
        "\n",
        "    return array\n",
        "\n",
        "def swap(i,j,arr):\n",
        "    arr[i],arr[j]=arr[j],arr[i]\n",
        "\n",
        "if __name__ == \"__main__\":\n",
        "    array = ['G', 'B', 'R', 'R', 'B', 'R', 'G']\n",
        "    print(solve(array))\n",
        "\n"
      ],
      "execution_count": null,
      "outputs": []
    },
    {
      "cell_type": "code",
      "metadata": {
        "id": "qu_BUU3-RQzo",
        "colab_type": "code",
        "colab": {}
      },
      "source": [
        "\"\"\"\n",
        "This problem was asked by Google.\n",
        "\n",
        "Given an array of strictly the characters 'R', 'G', and 'B', segregate the values of the array so that all the Rs come first, the Gs come second, and the Bs come last. You can only swap elements of the array.\n",
        "\n",
        "Do this in linear time and in-place.\n",
        "\n",
        "For example, given the array ['G', 'B', 'R', 'R', 'B', 'R', 'G'], it should become ['R', 'R', 'R', 'G', 'G', 'B', 'B'].\n",
        "\n",
        "\n",
        "\"\"\"\n",
        "# O(n) time | O(1) space\n",
        "def solve(array):\n",
        "    d={'R':0,'G':1,'B':2}\n",
        "    arr1=[d[x] for x in array]\n",
        "    print(arr1)\n",
        "\n",
        "    low=0\n",
        "    high=len(arr1)-1\n",
        "    mid=0\n",
        "\n",
        "    while mid<=high:\n",
        "        if arr1[mid]==0:\n",
        "            arr1[low],arr1[mid]=arr1[mid],arr1[low]\n",
        "            low+=1\n",
        "            mid+=1\n",
        "        elif arr1[mid]==1:\n",
        "            mid+=1\n",
        "        else:\n",
        "            arr1[high],arr1[mid]=arr1[mid],arr1[high]\n",
        "            high -=1\n",
        " \n",
        "    i_d={v:k for k,v in d.items()}\n",
        "    array=[i_d[x] for x in arr1]\n",
        "\n",
        "    return array\n",
        "\n",
        "\n",
        "if __name__ == \"__main__\":\n",
        "    array = ['G', 'B', 'R', 'R', 'B', 'R', 'G']\n",
        "    print(solve(array))\n"
      ],
      "execution_count": null,
      "outputs": []
    }
  ]
}
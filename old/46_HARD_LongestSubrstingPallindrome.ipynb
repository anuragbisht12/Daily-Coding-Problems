{
  "nbformat": 4,
  "nbformat_minor": 0,
  "metadata": {
    "colab": {
      "name": "46_HARD_LongestSubrstingPallindrome.ipynb",
      "provenance": [],
      "collapsed_sections": [],
      "authorship_tag": "ABX9TyM1VN+eUD/Oft4eShqMpAm+",
      "include_colab_link": true
    },
    "kernelspec": {
      "name": "python3",
      "display_name": "Python 3"
    }
  },
  "cells": [
    {
      "cell_type": "markdown",
      "metadata": {
        "id": "view-in-github",
        "colab_type": "text"
      },
      "source": [
        "<a href=\"https://colab.research.google.com/github/anuragbisht12/Daily-Coding-Problems/blob/master/46_HARD_LongestSubrstingPallindrome.ipynb\" target=\"_parent\"><img src=\"https://colab.research.google.com/assets/colab-badge.svg\" alt=\"Open In Colab\"/></a>"
      ]
    },
    {
      "cell_type": "markdown",
      "metadata": {
        "id": "c2Sn-8yTAnqr",
        "colab_type": "text"
      },
      "source": [
        "This problem was asked by Amazon.\n",
        "\n",
        "Given a string, find the longest palindromic contiguous substring. If there are more than one with the maximum length, return any one.\n",
        "\n",
        "For example, the longest palindromic substring of \"aabcdcb\" is \"bcdcb\". The longest palindromic substring of \"bananas\" is \"anana\"."
      ]
    },
    {
      "cell_type": "code",
      "metadata": {
        "id": "uVp5jl8fAh7N",
        "colab_type": "code",
        "colab": {}
      },
      "source": [
        "# O(n^2) time | O(1) space\n",
        "def longestPalindromicSubstring(string):\n",
        "  currentLongest=[0,1]\n",
        "  for i in range(1, len(string)):\n",
        "    odd=getLongestPallindromeFrom(string,i-1,i+1)\n",
        "    even=getLongestPallindromeFrom(string,i-1,i)\n",
        "    longest=max(odd,even,key=lambda x:x[1]-x[0])\n",
        "    currentLongest=max(longest,currentLongest, key=lambda x: x[1]-x[0])\n",
        "  return string[currentLongest[0]:currentLongest[1]]\n",
        "\n",
        "def getLongestPallindromeFrom(string,leftIdx,rightIdx):\n",
        "  while leftIdx >=0 and rightIdx < len(string):\n",
        "    if string[leftIdx]!=string[rightIdx]:\n",
        "      break\n",
        "    leftIdx -=1\n",
        "    rightIdx +=1\n",
        "  return [leftIdx+1,rightIdx]"
      ],
      "execution_count": 2,
      "outputs": []
    },
    {
      "cell_type": "code",
      "metadata": {
        "id": "OhLx1yw5Drrl",
        "colab_type": "code",
        "colab": {}
      },
      "source": [
        "def isPallindrome(s):\n",
        "  return s==s[::-1]\n",
        "\n",
        "def getLongestPallindrome(s):\n",
        "  if not s or isPallindrome(s):\n",
        "    return s\n",
        "  s1=getLongestPallindrome(s[1:])\n",
        "  s2=getLongestPallindrome(s[:-1])\n",
        "\n",
        "  return s1 if len(s1) >= len(s2) else s2\n",
        "\n",
        "assert getLongestPallindrome(\"aabcdcb\") == \"bcdcb\"\n",
        "assert getLongestPallindrome(\"bananas\") == \"anana\""
      ],
      "execution_count": 1,
      "outputs": []
    }
  ]
}
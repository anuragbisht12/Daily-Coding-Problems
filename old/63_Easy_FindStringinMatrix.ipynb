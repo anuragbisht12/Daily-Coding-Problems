{
  "nbformat": 4,
  "nbformat_minor": 0,
  "metadata": {
    "colab": {
      "name": "63_Easy_FindStringinMatrix.ipynb",
      "provenance": [],
      "authorship_tag": "ABX9TyMglBKzhcqzj76nvP/umy7Y",
      "include_colab_link": true
    },
    "kernelspec": {
      "name": "python3",
      "display_name": "Python 3"
    }
  },
  "cells": [
    {
      "cell_type": "markdown",
      "metadata": {
        "id": "view-in-github",
        "colab_type": "text"
      },
      "source": [
        "<a href=\"https://colab.research.google.com/github/anuragbisht12/Daily-Coding-Problems/blob/master/63_Easy_FindStringinMatrix.ipynb\" target=\"_parent\"><img src=\"https://colab.research.google.com/assets/colab-badge.svg\" alt=\"Open In Colab\"/></a>"
      ]
    },
    {
      "cell_type": "code",
      "metadata": {
        "id": "5TegotVMU_X8",
        "colab_type": "code",
        "colab": {}
      },
      "source": [
        "\"\"\"\n",
        "This problem was asked by Microsoft.\n",
        "\n",
        "Given a 2D matrix of characters and a target word, write a function that returns whether the word can \n",
        "be found in the matrix by going left-to-right, or up-to-down.\n",
        "\n",
        "For example, given the following matrix:\n",
        "\n",
        "[['F', 'A', 'C', 'I'],\n",
        " ['O', 'B', 'Q', 'P'],\n",
        " ['A', 'N', 'O', 'B'],\n",
        " ['M', 'A', 'S', 'S']]\n",
        "and the target word 'FOAM', you should return true, since it's the \n",
        "leftmost column. Similarly, given the target word 'MASS', you should return true, since it's the last row.\n",
        "\n",
        "\"\"\"\n",
        "\n",
        "def word_exists(matrix, word):\n",
        "    rowlength=len(matrix)\n",
        "    columnlength=len(matrix[0])\n",
        "    \n",
        "    directions=[(0,1),(1,1),(1,0),(0,-1),(-1,-1),(-1,0),(-1,1),(1,-1)]\n",
        "\n",
        "    flag=True\n",
        "    startrow=-1\n",
        "    startcolumn=-1\n",
        "\n",
        "    for i in range(rowlength):\n",
        "        for j in range(columnlength):\n",
        "            if matrix[i][j]==word[0]:\n",
        "                startrow=i\n",
        "                startcolumn=j\n",
        "\n",
        "    print(startrow,startcolumn)\n",
        "\n",
        "    if startrow == -1 and  startcolumn == -1:\n",
        "        return False\n",
        "\n",
        "\n",
        "    for (x,y) in directions:\n",
        "        currentrow = startrow+x\n",
        "        currentcolumn= startcolumn+y\n",
        "        flag=True\n",
        "\n",
        "        for k in range(1, len(word)):\n",
        "            if 0<=currentrow < rowlength and 0<=currentcolumn < columnlength and word[k] == matrix[currentrow][currentcolumn]:\n",
        "                currentrow +=x\n",
        "                currentcolumn +=y\n",
        "            else:\n",
        "                flag=False\n",
        "                break\n",
        "        \n",
        "        if flag:\n",
        "            return True\n",
        "    \n",
        "    return False\n",
        "                \n",
        "\n",
        "\n",
        "\n",
        "if __name__ == \"__main__\":\n",
        "    matrix = [['F', 'A', 'C', 'I'],\n",
        "    ['O', 'B', 'Q', 'P'],\n",
        "    ['A', 'N', 'O', 'B'], \n",
        "    ['M', 'A', 'S', 'S']]\n",
        "\n",
        "    assert not word_exists(matrix, \"FOAMS\")\n",
        "    assert word_exists(matrix, \"FOAM\")\n",
        "    assert word_exists(matrix, \"MASS\")\n",
        "    assert not word_exists(matrix, \"FORM\")\n",
        "\n"
      ],
      "execution_count": null,
      "outputs": []
    }
  ]
}
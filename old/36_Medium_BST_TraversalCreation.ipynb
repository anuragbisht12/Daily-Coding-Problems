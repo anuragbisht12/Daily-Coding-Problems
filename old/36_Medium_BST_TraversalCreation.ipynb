{
  "nbformat": 4,
  "nbformat_minor": 0,
  "metadata": {
    "colab": {
      "name": "36_Medium_BST_TraversalCreation.ipynb",
      "provenance": [],
      "collapsed_sections": [],
      "authorship_tag": "ABX9TyNREslZqPJleice4r/yrP1e",
      "include_colab_link": true
    },
    "kernelspec": {
      "name": "python3",
      "display_name": "Python 3"
    }
  },
  "cells": [
    {
      "cell_type": "markdown",
      "metadata": {
        "id": "view-in-github",
        "colab_type": "text"
      },
      "source": [
        "<a href=\"https://colab.research.google.com/github/anuragbisht12/Daily-Coding-Problems/blob/master/36_Medium_BST_TraversalCreation.ipynb\" target=\"_parent\"><img src=\"https://colab.research.google.com/assets/colab-badge.svg\" alt=\"Open In Colab\"/></a>"
      ]
    },
    {
      "cell_type": "code",
      "metadata": {
        "id": "JubqAeU__F9R",
        "colab_type": "code",
        "colab": {}
      },
      "source": [
        "\"\"\"\n",
        "This problem was asked by Dropbox.\n",
        "\n",
        "Given the root to a binary search tree, find the second largest node in the tree.\n",
        "\"\"\"\n",
        "\n",
        "\n",
        "class BST:\n",
        "    def __init__(self, value):\n",
        "        self.value = value\n",
        "        self.left = None\n",
        "        self.right = None\n",
        "\n",
        "    def insert(self, value):\n",
        "        currentNode = self\n",
        "        while True:\n",
        "            if value < currentNode.value:\n",
        "                if currentNode.left is None:\n",
        "                    currentNode.left = BST(value)\n",
        "                    break\n",
        "                else:\n",
        "                    currentNode = currentNode.left\n",
        "            else:\n",
        "                if currentNode.right is None:\n",
        "                    currentNode.right = BST(value)\n",
        "                    break\n",
        "                else:\n",
        "                    currentNode = currentNode.right\n",
        "        return self\n",
        "\n",
        "    def findSecondHighest(self):\n",
        "        currentNode = self\n",
        "        while currentNode.right is not None:\n",
        "            previousNode=currentNode\n",
        "            currentNode=currentNode.right\n",
        "\n",
        "        print(previousNode.value)\n",
        "\n",
        "\n",
        "\n",
        "if __name__ == \"__main__\":\n",
        "    b= BST(5)\n",
        "    b.insert(7)\n",
        "    b.insert(9)\n",
        "    b.insert(10)\n",
        "    b.insert(11)\n",
        "    b.insert(4)\n",
        "    b.insert(3)\n",
        "    b.insert(2)\n",
        "    b.findSecondHighest()\n",
        "    "
      ],
      "execution_count": null,
      "outputs": []
    }
  ]
}
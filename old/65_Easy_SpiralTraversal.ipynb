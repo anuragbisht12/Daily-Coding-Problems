{
  "nbformat": 4,
  "nbformat_minor": 0,
  "metadata": {
    "colab": {
      "name": "65_Easy_SpiralTraversal.ipynb",
      "provenance": [],
      "collapsed_sections": [],
      "authorship_tag": "ABX9TyN6fiT6kXzpe9sOiRh7+pP9",
      "include_colab_link": true
    },
    "kernelspec": {
      "name": "python3",
      "display_name": "Python 3"
    }
  },
  "cells": [
    {
      "cell_type": "markdown",
      "metadata": {
        "id": "view-in-github",
        "colab_type": "text"
      },
      "source": [
        "<a href=\"https://colab.research.google.com/github/anuragbisht12/Daily-Coding-Problems/blob/master/65_Easy_SpiralTraversal.ipynb\" target=\"_parent\"><img src=\"https://colab.research.google.com/assets/colab-badge.svg\" alt=\"Open In Colab\"/></a>"
      ]
    },
    {
      "cell_type": "code",
      "metadata": {
        "id": "u4XMxwTMWHcE",
        "colab_type": "code",
        "colab": {}
      },
      "source": [
        "\"\"\"\n",
        "This problem was asked by Amazon.\n",
        "\n",
        "Given a N by M matrix of numbers, print out the matrix in a clockwise spiral.\n",
        "\n",
        "For example, given the following matrix:\n",
        "\n",
        "[[1,  2,  3,  4,  5],\n",
        " [6,  7,  8,  9,  10],\n",
        " [11, 12, 13, 14, 15],\n",
        " [16, 17, 18, 19, 20]]\n",
        "You should print out the following:\n",
        "\n",
        "1\n",
        "2\n",
        "3\n",
        "4\n",
        "5\n",
        "10\n",
        "15\n",
        "20\n",
        "19\n",
        "18\n",
        "17\n",
        "16\n",
        "11\n",
        "6\n",
        "7\n",
        "8\n",
        "9\n",
        "14\n",
        "13\n",
        "12\n",
        "\n",
        "\"\"\"\n",
        "\n",
        "\n",
        "def spiralTraverse(array):\n",
        "\tresult=[]\n",
        "\tstartRow,endRow=0,len(array)-1\n",
        "\tstartCol,endCol =0, len(array[0])-1\n",
        "\t\n",
        "\twhile startRow <= endRow and startCol <= endCol:\n",
        "\t\tfor col in range(startCol,endCol+1):\n",
        "\t\t\tresult.append(array[startRow][col])\n",
        "\t\t\n",
        "\t\tfor row in range(startRow+1,endRow+1):\n",
        "\t\t\tresult.append(array[row][endCol])\n",
        "\t\t\n",
        "\t\tfor col in reversed(range(startCol, endCol)):\n",
        "\t\t\tif startRow == endRow:\n",
        "\t\t\t\tbreak\n",
        "\t\t\tresult.append(array[endRow][col])\n",
        "\t\t\t\n",
        "\t\tfor row in reversed(range(startRow+1,endRow)):\n",
        "\t\t\tif startCol == endCol:\n",
        "\t\t\t\tbreak\n",
        "\t\t\tresult.append(array[row][startCol])\n",
        "\t\tstartRow+=1\n",
        "\t\tendRow-=1\n",
        "\t\tstartCol+=1\n",
        "\t\tendCol -=1\n",
        "\treturn result\n",
        "\n",
        "if __name__ == \"__main__\":\n",
        "\n",
        "    matrix= [[1,  2,  3,  4,  5],\n",
        "            [6,  7,  8,  9,  10],\n",
        "            [11, 12, 13, 14, 15],\n",
        "            [16, 17, 18, 19, 20]]\n",
        "\n",
        "    assert spiralTraverse(matrix)== [1, 2, 3, 4, 5, 10, 15, 20, 19, 18, 17, 16, 11, 6, 7, 8, 9, 14, 13, 12]\n"
      ],
      "execution_count": null,
      "outputs": []
    }
  ]
}
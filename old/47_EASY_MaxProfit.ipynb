{
  "nbformat": 4,
  "nbformat_minor": 0,
  "metadata": {
    "colab": {
      "name": "47_EASY_MaxProfit.ipynb",
      "provenance": [],
      "collapsed_sections": [],
      "authorship_tag": "ABX9TyM2oB4+lGjBc9rqQTXoLZuj",
      "include_colab_link": true
    },
    "kernelspec": {
      "name": "python3",
      "display_name": "Python 3"
    }
  },
  "cells": [
    {
      "cell_type": "markdown",
      "metadata": {
        "id": "view-in-github",
        "colab_type": "text"
      },
      "source": [
        "<a href=\"https://colab.research.google.com/github/anuragbisht12/Daily-Coding-Problems/blob/master/47_EASY_MaxProfit.ipynb\" target=\"_parent\"><img src=\"https://colab.research.google.com/assets/colab-badge.svg\" alt=\"Open In Colab\"/></a>"
      ]
    },
    {
      "cell_type": "markdown",
      "metadata": {
        "id": "HkxixZzVDzNa",
        "colab_type": "text"
      },
      "source": [
        "This problem was asked by Facebook.\n",
        "\n",
        "Given a array of numbers representing the stock prices of a company in chronological order, write a function that calculates the maximum profit you could have made from buying and selling that stock once. You must buy before you can sell it.\n",
        "\n",
        "For example, given [9, 11, 8, 5, 7, 10], you should return 5, since you could buy the stock at 5 dollars and sell it at 10 dollars."
      ]
    },
    {
      "cell_type": "code",
      "metadata": {
        "id": "56mKjlUZD1gh",
        "colab_type": "code",
        "colab": {
          "base_uri": "https://localhost:8080/",
          "height": 34
        },
        "outputId": "e6edd016-7349-4774-885e-3bd4947eb910"
      },
      "source": [
        "# O(n^2) time | O(1) space\n",
        "def maxProfit(array):\n",
        "  maxDifference=array[0]\n",
        "  for i in range(1,len(array)):\n",
        "    localMin=array[i]\n",
        "    for j in range(0,i):\n",
        "      if array[j]<array[j-1]:\n",
        "        localMin=array[j]\n",
        "    maxDifference=min(maxDifference,localMin)\n",
        "  return maxDifference\n",
        "\n",
        "print(maxProfit([9,11,8,5,7,10]))"
      ],
      "execution_count": 4,
      "outputs": [
        {
          "output_type": "stream",
          "text": [
            "5\n"
          ],
          "name": "stdout"
        }
      ]
    },
    {
      "cell_type": "code",
      "metadata": {
        "id": "xmGjbJH2Jo2V",
        "colab_type": "code",
        "colab": {}
      },
      "source": [
        "# O(N) time |  O(1) space\n",
        "def get_stock_profit(prices):\n",
        "    if not prices or len(prices) < 2:\n",
        "        return\n",
        "\n",
        "    min_price = prices[0]\n",
        "    max_diff = -float(\"infinity\")\n",
        "    for price in prices[1:]:\n",
        "        if price - min_price > max_diff:\n",
        "            max_diff = price - min_price\n",
        "        if price < min_price:\n",
        "            min_price = price\n",
        "\n",
        "    return max_diff\n",
        "\n",
        "assert get_stock_profit([9, 11, 8, 5, 7, 10]) == 5"
      ],
      "execution_count": 10,
      "outputs": []
    }
  ]
}
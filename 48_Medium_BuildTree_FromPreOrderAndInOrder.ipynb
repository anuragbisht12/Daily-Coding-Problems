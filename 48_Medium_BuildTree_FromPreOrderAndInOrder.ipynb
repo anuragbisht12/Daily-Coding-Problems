{
  "nbformat": 4,
  "nbformat_minor": 0,
  "metadata": {
    "colab": {
      "name": "48_Medium_BuildTree_FromPreOrderAndInOrder.ipynb",
      "provenance": [],
      "collapsed_sections": [],
      "authorship_tag": "ABX9TyMba92Mi8lLazvhpR56thnK",
      "include_colab_link": true
    },
    "kernelspec": {
      "name": "python3",
      "display_name": "Python 3"
    }
  },
  "cells": [
    {
      "cell_type": "markdown",
      "metadata": {
        "id": "view-in-github",
        "colab_type": "text"
      },
      "source": [
        "<a href=\"https://colab.research.google.com/github/anuragbisht12/Daily-Coding-Problems/blob/master/48_Medium_BuildTree_FromPreOrderAndInOrder.ipynb\" target=\"_parent\"><img src=\"https://colab.research.google.com/assets/colab-badge.svg\" alt=\"Open In Colab\"/></a>"
      ]
    },
    {
      "cell_type": "markdown",
      "metadata": {
        "id": "ds0tavJZoq1i",
        "colab_type": "text"
      },
      "source": [
        "Given pre-order and in-order traversals of a binary tree, write a function to reconstruct the tree.\n",
        "\n",
        "For example, given the following preorder traversal:\n",
        "\n",
        "[a, b, d, e, c, f, g]\n",
        "\n",
        "And the following inorder traversal:\n",
        "\n",
        "[d, b, e, a, f, c, g]"
      ]
    },
    {
      "cell_type": "code",
      "metadata": {
        "id": "erV5ym1EotV4",
        "colab_type": "code",
        "colab": {}
      },
      "source": [
        "class Node:\n",
        "  def __init__(self,value):\n",
        "    self.value=value\n",
        "    self.left=None\n",
        "    self.right=None\n",
        "\n",
        "\n",
        "def getTree(preorder,inorder):\n",
        "  if not preorder or not inorder:\n",
        "    return None\n",
        "\n",
        "  root=Node(preorder[0])\n",
        "  rootChar=preorder[0]\n",
        "  if len(preorder)==1:\n",
        "    return root\n",
        "  \n",
        "  for i,char in enumerate(inorder):\n",
        "    if char==rootChar:\n",
        "      root.left=getTree(preorder[1:i+1],inorder[:i])\n",
        "      root.right=getTree(preorder[i+1:],inorder[i+1:])\n",
        "\n",
        "  return root\n",
        "\n",
        "\n",
        "\n",
        "tree = getTree(preorder=['a', 'b', 'd', 'e', 'c', 'f', 'g'],\n",
        "                inorder=['d', 'b', 'e', 'a', 'f', 'c', 'g'])\n",
        "\n",
        "assert tree.value == 'a'\n",
        "assert tree.left.value == 'b'\n",
        "assert tree.left.left.value == 'd'\n",
        "assert tree.left.right.value == 'e'\n",
        "assert tree.right.value == 'c'\n",
        "assert tree.right.left.value == 'f'\n",
        "assert tree.right.right.value == 'g'\n"
      ],
      "execution_count": 6,
      "outputs": []
    }
  ]
}
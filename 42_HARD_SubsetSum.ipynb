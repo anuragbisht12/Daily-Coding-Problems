{
  "nbformat": 4,
  "nbformat_minor": 0,
  "metadata": {
    "colab": {
      "name": "42_HARD_SubsetSum.ipynb",
      "provenance": [],
      "collapsed_sections": [],
      "authorship_tag": "ABX9TyPcEDIyv6XjzGigLIjIhIIz",
      "include_colab_link": true
    },
    "kernelspec": {
      "name": "python3",
      "display_name": "Python 3"
    }
  },
  "cells": [
    {
      "cell_type": "markdown",
      "metadata": {
        "id": "view-in-github",
        "colab_type": "text"
      },
      "source": [
        "<a href=\"https://colab.research.google.com/github/anuragbisht12/Daily-Coding-Problems/blob/master/42_HARD_SubsetSum.ipynb\" target=\"_parent\"><img src=\"https://colab.research.google.com/assets/colab-badge.svg\" alt=\"Open In Colab\"/></a>"
      ]
    },
    {
      "cell_type": "markdown",
      "metadata": {
        "id": "7-JxEdzEOWRp",
        "colab_type": "text"
      },
      "source": [
        "This problem was asked by Google.\n",
        "\n",
        "Given a list of integers S and a target number k, write a function that returns a subset of S that adds up to k. If such a subset cannot be made, then return null.\n",
        "\n",
        "Integers can appear more than once in the list. You may assume all numbers in the list are positive.\n",
        "\n",
        "For example, given S = [12, 1, 61, 5, 9, 2] and k = 24, return [12, 9, 2, 1] since it sums up to 24."
      ]
    },
    {
      "cell_type": "code",
      "metadata": {
        "id": "xdesSv9IOVOG",
        "colab_type": "code",
        "colab": {}
      },
      "source": [
        "\n",
        "# O(nlogn)  time | O(n) space\n",
        "def getSubset(array,k):\n",
        "    if len(array)==0:\n",
        "        return None\n",
        "    if array[0]==k:\n",
        "        return [array[0]]\n",
        "    \n",
        "    with_first = getSubset(array[1:], k-array[0])    # 4 3 2 1  , 10\n",
        "\n",
        "    if with_first:\n",
        "        return [array[0]] + with_first\n",
        "    else:\n",
        "        return getSubset(array[1:],k)\n",
        "\n",
        "\n",
        "assert not getSubset([], 1)\n",
        "assert getSubset([12, 1, 61, 5, 9, 2], 24) == [12, 1, 9, 2]\n",
        "assert getSubset([12, 1, 61, 5, 9, 2], 61) == [61]\n",
        "assert getSubset([12, 1, 61, 5, -108, 2], -106) == [-108, 2]\n",
        "\n",
        "print(getSubset([1,2,3,4],5))\n",
        "\n"
      ],
      "execution_count": null,
      "outputs": []
    }
  ]
}
{
  "nbformat": 4,
  "nbformat_minor": 0,
  "metadata": {
    "colab": {
      "name": "40_Hard_FindlElementoccurOnce.ipynb",
      "provenance": [],
      "collapsed_sections": [],
      "authorship_tag": "ABX9TyMzVlzvGkjSzbOazs1+qdUl",
      "include_colab_link": true
    },
    "kernelspec": {
      "name": "python3",
      "display_name": "Python 3"
    }
  },
  "cells": [
    {
      "cell_type": "markdown",
      "metadata": {
        "id": "view-in-github",
        "colab_type": "text"
      },
      "source": [
        "<a href=\"https://colab.research.google.com/github/anuragbisht12/Daily-Coding-Problems/blob/master/40_Hard_FindlElementoccurOnce.ipynb\" target=\"_parent\"><img src=\"https://colab.research.google.com/assets/colab-badge.svg\" alt=\"Open In Colab\"/></a>"
      ]
    },
    {
      "cell_type": "markdown",
      "metadata": {
        "id": "U_NzLMewjcN0",
        "colab_type": "text"
      },
      "source": [
        "This problem was asked by Google.\n",
        "\n",
        "Given an array of integers where every integer occurs three times except for one integer, which only occurs once, find and return the non-duplicated integer.\n",
        "\n",
        "For example, given [6, 1, 3, 3, 3, 6, 6], return 1. Given [13, 19, 13, 13], return 19.\n",
        "\n",
        "Do this in O(N) time and O(1) space."
      ]
    },
    {
      "cell_type": "code",
      "metadata": {
        "id": "qNZunPs8ja2J",
        "colab_type": "code",
        "colab": {}
      },
      "source": [
        "def findElement(array)->int:\n",
        "    ones:int=0\n",
        "    twos:int=0\n",
        "    for i in range(len(array)):\n",
        "        ones= (ones ^ array[i]) & ~twos\n",
        "        twos= (twos ^ array[i]) & ~ones\n",
        "\n",
        "    return ones\n",
        "\n",
        "if __name__ == \"__main__\":\n",
        "    assert findElement([6, 1, 3, 3, 3, 6, 6])==1\n",
        "    assert findElement([13, 19, 13, 13])==19\n"
      ],
      "execution_count": null,
      "outputs": []
    }
  ]
}
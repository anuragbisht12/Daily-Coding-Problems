{
  "nbformat": 4,
  "nbformat_minor": 0,
  "metadata": {
    "colab": {
      "name": "41_MEDIUM_Itinerary.ipynb",
      "provenance": [],
      "collapsed_sections": [],
      "authorship_tag": "ABX9TyOac+JpJtUBDZ93vAaPfFrI",
      "include_colab_link": true
    },
    "kernelspec": {
      "name": "python3",
      "display_name": "Python 3"
    }
  },
  "cells": [
    {
      "cell_type": "markdown",
      "metadata": {
        "id": "view-in-github",
        "colab_type": "text"
      },
      "source": [
        "<a href=\"https://colab.research.google.com/github/anuragbisht12/Daily-Coding-Problems/blob/master/41_MEDIUM_Itinerary.ipynb\" target=\"_parent\"><img src=\"https://colab.research.google.com/assets/colab-badge.svg\" alt=\"Open In Colab\"/></a>"
      ]
    },
    {
      "cell_type": "markdown",
      "metadata": {
        "id": "IGqETRbpBtSt",
        "colab_type": "text"
      },
      "source": [
        "This problem was asked by Facebook.\n",
        "\n",
        "Given an unordered list of flights taken by someone, each represented as (origin, destination) pairs, and a starting airport, compute the person's itinerary. If no such itinerary exists, return null. If there are multiple possible itineraries, return the lexicographically smallest one. All flights must be used in the itinerary.\n",
        "\n",
        "For example, given the list of flights [('SFO', 'HKO'), ('YYZ', 'SFO'), ('YUL', 'YYZ'), ('HKO', 'ORD')] and starting airport 'YUL', you should return the list ['YUL', 'YYZ', 'SFO', 'HKO', 'ORD'].\n",
        "\n",
        "Given the list of flights [('SFO', 'COM'), ('COM', 'YYZ')] and starting airport 'COM', you should return null.\n",
        "\n",
        "Given the list of flights [('A', 'B'), ('A', 'C'), ('B', 'C'), ('C', 'A')] and starting airport 'A', you should return the list ['A', 'B', 'C', 'A', 'C'] even though ['A', 'C', 'A', 'B', 'C'] is also a valid itinerary. However, the first one is lexicographically smaller."
      ]
    },
    {
      "cell_type": "code",
      "metadata": {
        "id": "8-SKCIxQCh18",
        "colab_type": "code",
        "colab": {}
      },
      "source": [
        "# O(Nlogn) time | O(N) space\n",
        "def getItinerary(flights, startingPoint, currentItinerary):\n",
        "    if not flights:\n",
        "        return currentItinerary+[startingPoint]\n",
        "    updatedItinerary=None\n",
        "    for i,(city1,city2) in enumerate(flights):\n",
        "        if startingPoint==city1:\n",
        "            childItinerary=getItinerary(flights[:i]+flights[i+1:],city2, currentItinerary+[city1])\n",
        "            if childItinerary:\n",
        "                if not updatedItinerary or \".\".join(childItinerary) < \".\".join(updatedItinerary):\n",
        "                    updatedItinerary=childItinerary\n",
        "    return updatedItinerary\n",
        "\n",
        "if __name__ == \"__main__\":\n",
        "    assert getItinerary([('SFO', 'HKO'), ('YYZ', 'SFO'), ('YUL', 'YYZ'),\n",
        "                          ('HKO', 'ORD')], \"YUL\", []) == ['YUL', 'YYZ', 'SFO', 'HKO', 'ORD']\n",
        "    assert not getItinerary([('SFO', 'COM'), ('COM', 'YYZ')], \"YUL\", [])\n",
        "    assert getItinerary([('A', 'B'), ('A', 'C'), ('B', 'C'), ('C', 'A')], \"A\", []) == [\n",
        "        'A', 'B', 'C', 'A', 'C']\n",
        "    \n"
      ],
      "execution_count": null,
      "outputs": []
    },
    {
      "cell_type": "code",
      "metadata": {
        "id": "GA0L9jVpGCCw",
        "colab_type": "code",
        "colab": {}
      },
      "source": [
        "# Finding the iteranry from the ticket\n",
        "# O(n2) time | O(n) space\n",
        "def findItinerary(tickets,start):\n",
        "    itinerary=[]\n",
        "    itinerary.append(start)\n",
        "    while len(tickets)>=1:\n",
        "        current=None\n",
        "        directions={}\n",
        "        for item in tickets:\n",
        "            if item[0]==start:\n",
        "                directions[item[0]]=item[1]\n",
        "        if len(directions)>=1:\n",
        "            current=min(directions.values())\n",
        "            removeTuple=(start,current)\n",
        "        try:\n",
        "            tickets.remove(removeTuple)\n",
        "            itinerary.append(current)\n",
        "            start=current\n",
        "        except:\n",
        "            return \"not valid itinerary\"\n",
        "    return itinerary\n",
        "\n",
        "if __name__ == \"__main__\":\n",
        "    print(findItinerary([('SFO', 'HKO'), ('YYZ', 'SFO'), ('YUL', 'YYZ'), ('HKO', 'ORD')],\n",
        "                     'YUL'))\n",
        "\n",
        "print(findItinerary([('SFO', 'COM'), ('COM', 'YYZ')],\n",
        "                 'COM'))\n",
        "\n",
        "print(findItinerary([('A', 'B'), ('A', 'C'), ('B', 'C'), ('C', 'A')],\n",
        "                 'A'))"
      ],
      "execution_count": null,
      "outputs": []
    },
    {
      "cell_type": "code",
      "metadata": {
        "id": "PI2X4zuABoaf",
        "colab_type": "code",
        "colab": {}
      },
      "source": [
        "# Finding the Itinerary from the ticket\n",
        "# O(n) time | O(2n) space\n",
        "def findItinerary(tickets):\n",
        "\n",
        "    map=dict()\n",
        "    for tuple in tickets:\n",
        "        map[tuple[0]]=tuple[1]\n",
        "\n",
        "    reverseMap=dict()\n",
        "    for tuple in tickets:\n",
        "        reverseMap[tuple[1]]=tuple[0]\n",
        "\n",
        "    startingPoint=\"\"\n",
        "    for tuple in tickets:\n",
        "        if tuple[0] not in reverseMap:\n",
        "            startingPoint=tuple[0]\n",
        "    \n",
        "    itinerary=[]\n",
        "    while True:\n",
        "        currentFrom=startingPoint\n",
        "        if currentFrom in map:\n",
        "            itinerary.append((currentFrom,map[currentFrom]))\n",
        "            startingPoint=map[currentFrom]\n",
        "        else:\n",
        "            break\n",
        "    return itinerary\n",
        "\n",
        "if __name__ == \"__main__\":\n",
        "    tickets = [(\"Chennai\", \"Banglore\"), (\"Bombay\", \"Delhi\"),\n",
        "               (\"Goa\", \"Chennai\"), (\"Delhi\", \"Goa\")]\n",
        "    print(findItinerary(tickets))\n"
      ],
      "execution_count": null,
      "outputs": []
    }
  ]
}
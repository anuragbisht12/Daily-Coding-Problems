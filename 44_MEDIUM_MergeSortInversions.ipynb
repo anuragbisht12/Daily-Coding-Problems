{
  "nbformat": 4,
  "nbformat_minor": 0,
  "metadata": {
    "colab": {
      "name": "44_MEDIUM_MergeSortInversions.ipynb",
      "provenance": [],
      "collapsed_sections": [],
      "authorship_tag": "ABX9TyONjRIJrbfTIXK2KcIBW3D4",
      "include_colab_link": true
    },
    "kernelspec": {
      "name": "python3",
      "display_name": "Python 3"
    }
  },
  "cells": [
    {
      "cell_type": "markdown",
      "metadata": {
        "id": "view-in-github",
        "colab_type": "text"
      },
      "source": [
        "<a href=\"https://colab.research.google.com/github/anuragbisht12/Daily-Coding-Problems/blob/master/44_MEDIUM_MergeSortInversions.ipynb\" target=\"_parent\"><img src=\"https://colab.research.google.com/assets/colab-badge.svg\" alt=\"Open In Colab\"/></a>"
      ]
    },
    {
      "cell_type": "markdown",
      "metadata": {
        "id": "1BuGyunYeDZZ",
        "colab_type": "text"
      },
      "source": [
        "This problem was asked by Google.\n",
        "\n",
        "We can determine how \"out of order\" an array A is by counting the number of inversions it has. Two elements A[i] and A[j] form an inversion if A[i] > A[j] but i < j. That is, a smaller element appears after a larger element.\n",
        "\n",
        "Given an array, count the number of inversions it has. Do this faster than O(N^2) time.\n",
        "\n",
        "You may assume each element in the array is distinct.\n",
        "\n",
        "For example, a sorted list has zero inversions. The array [2, 4, 1, 3, 5] has three inversions: (2, 1), (4, 1), and (4, 3). The array [5, 4, 3, 2, 1] has ten inversions: every distinct pair forms an inversion."
      ]
    },
    {
      "cell_type": "code",
      "metadata": {
        "id": "G5Qq6Wn5eC8H",
        "colab_type": "code",
        "colab": {}
      },
      "source": [
        "# O(nlogn) time | O(n) space\n",
        "def mergeSortInversions(array):\n",
        "    if len(array)==1:\n",
        "        return array,0\n",
        "    else:\n",
        "        a=array[:len(array)//2]\n",
        "        b=array[len(array)//2:]\n",
        "\n",
        "        a,ai =mergeSortInversions(a)\n",
        "        b,bi= mergeSortInversions(b)\n",
        "        c=[]\n",
        "\n",
        "        i=0\n",
        "        j=0\n",
        "\n",
        "        inversions=0+ai+bi\n",
        "        while i< len(a) and j< len(b):\n",
        "            if a[i]<=b[j]:\n",
        "                c.append(a[i])\n",
        "                i+=1\n",
        "            else:\n",
        "                c.append(b[j])\n",
        "                j+=1\n",
        "                inversions += (len(a)-i)\n",
        "\n",
        "        c+=a[i:]\n",
        "        c+=b[j:]\n",
        "\n",
        "        return c,inversions\n",
        "\n",
        "if __name__ == \"__main__\":\n",
        "    print(mergeSortInversions([2, 4, 1, 3, 5]))"
      ],
      "execution_count": null,
      "outputs": []
    },
    {
      "cell_type": "code",
      "metadata": {
        "id": "DLsdwOTeyE6b",
        "colab_type": "code",
        "colab": {}
      },
      "source": [
        "# O(n^2) time | O(1) space\n",
        "def countInversions(array):\n",
        "    inversionCount=0\n",
        "    arrayWithInversion=[]\n",
        "\n",
        "    for i in range(1,len(array)):\n",
        "        for j in range(0,i):\n",
        "            if inverse(array,j,i):\n",
        "                inversionCount += 1\n",
        "                arrayWithInversion.append((array[j],array[i]))\n",
        "\n",
        "    return inversionCount, arrayWithInversion\n",
        "\n",
        "def inverse(array, leftIdx,rightIdx):\n",
        "    if array[leftIdx] > array[rightIdx] and leftIdx<rightIdx:\n",
        "        return True\n",
        "    return False\n",
        "\n",
        "\n",
        "if __name__ == \"__main__\":\n",
        "    print(countInversions([2, 4, 1, 3, 5]))\n"
      ],
      "execution_count": null,
      "outputs": []
    },
    {
      "cell_type": "code",
      "metadata": {
        "id": "nUNghSN1eB1L",
        "colab_type": "code",
        "colab": {}
      },
      "source": [
        ""
      ],
      "execution_count": null,
      "outputs": []
    }
  ]
}
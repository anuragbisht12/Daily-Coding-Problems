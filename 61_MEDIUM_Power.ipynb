{
  "nbformat": 4,
  "nbformat_minor": 0,
  "metadata": {
    "colab": {
      "name": "61_MEDIUM_Power.ipynb",
      "provenance": [],
      "collapsed_sections": [],
      "authorship_tag": "ABX9TyMA3dwAvUw3ppobpPS7r7to",
      "include_colab_link": true
    },
    "kernelspec": {
      "name": "python3",
      "display_name": "Python 3"
    }
  },
  "cells": [
    {
      "cell_type": "markdown",
      "metadata": {
        "id": "view-in-github",
        "colab_type": "text"
      },
      "source": [
        "<a href=\"https://colab.research.google.com/github/anuragbisht12/Daily-Coding-Problems/blob/master/61_MEDIUM_Power.ipynb\" target=\"_parent\"><img src=\"https://colab.research.google.com/assets/colab-badge.svg\" alt=\"Open In Colab\"/></a>"
      ]
    },
    {
      "cell_type": "markdown",
      "metadata": {
        "id": "ZpF4BzA2EEm7",
        "colab_type": "text"
      },
      "source": [
        "This problem was asked by Google.\n",
        "\n",
        "Implement integer exponentiation. That is, implement the pow(x, y) function, where x and y are integers and returns x^y.\n",
        "\n",
        "Do this faster than the naive method of repeated multiplication.\n",
        "\n",
        "For example, pow(2, 10) should return 1024."
      ]
    },
    {
      "cell_type": "code",
      "metadata": {
        "id": "RG1B86p_ECDi",
        "colab_type": "code",
        "colab": {}
      },
      "source": [
        "# O(logn) time | O(n) space\n",
        "def power(x:int,y:int)->int:\n",
        "    if y==0:\n",
        "        return 1\n",
        "    temp=power(x,y//2)\n",
        "    if y%2==0:\n",
        "        return temp*temp\n",
        "    else:\n",
        "        if y>0:\n",
        "            return x*temp*temp\n",
        "        else:\n",
        "            return (temp*temp)/x\n",
        "\n",
        "\n",
        "def powerBitwise(x: int, y:int)->int:\n",
        "    result=1\n",
        "    \n",
        "    while y>0:\n",
        "        print(\"result: {} x:{} y:{}\".format(result, x,y))\n",
        "        if y&1==1:\n",
        "            result=result*x  \n",
        "\n",
        "        \n",
        "        y=y>>1\n",
        "        x=x*x   \n",
        "\n",
        "    return result\n",
        "if __name__ == \"__main__\":\n",
        "    print(power(2,5))\n",
        "\n",
        "\n",
        "    print(powerBitwise(2,5))\n"
      ],
      "execution_count": null,
      "outputs": []
    }
  ]
}
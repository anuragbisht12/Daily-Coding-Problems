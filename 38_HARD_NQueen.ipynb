{
  "nbformat": 4,
  "nbformat_minor": 0,
  "metadata": {
    "colab": {
      "name": "38_HARD_NQueen.ipynb",
      "provenance": [],
      "collapsed_sections": [],
      "authorship_tag": "ABX9TyNnYNEZUW23hrJMLLoivkj0",
      "include_colab_link": true
    },
    "kernelspec": {
      "name": "python3",
      "display_name": "Python 3"
    }
  },
  "cells": [
    {
      "cell_type": "markdown",
      "metadata": {
        "id": "view-in-github",
        "colab_type": "text"
      },
      "source": [
        "<a href=\"https://colab.research.google.com/github/anuragbisht12/Daily-Coding-Problems/blob/master/38_HARD_NQueen.ipynb\" target=\"_parent\"><img src=\"https://colab.research.google.com/assets/colab-badge.svg\" alt=\"Open In Colab\"/></a>"
      ]
    },
    {
      "cell_type": "code",
      "metadata": {
        "id": "2kFhdtE3lUek",
        "colab_type": "code",
        "colab": {}
      },
      "source": [
        "\"\"\"\n",
        "This problem was asked by Microsoft.\n",
        "\n",
        "You have an N by N board. Write a function that, given N, returns the number of possible arrangements of \n",
        "the board where N queens can be placed on the board without threatening each other,\n",
        " i.e. no two queens share the same row, column, or diagonal.\n",
        "\n",
        "\"\"\"\n",
        "\n",
        "def printSolution(n,board):\n",
        "    for i in range(n):\n",
        "        for j in range(n):\n",
        "            print(board[i][j], end=\" \")\n",
        "        print()\n",
        "\n",
        "def isSafe(n,board,row,col):\n",
        "\n",
        "    # if any queen present in the same row towards left unsafe\n",
        "    for i in range(col):\n",
        "        if board[row][i]==1:\n",
        "            return False\n",
        "\n",
        "    # Check upper diagonal on left side \n",
        "    for i, j in zip(range(row, -1, -1),  \n",
        "                    range(col, -1, -1)): \n",
        "        if board[i][j] == 1: \n",
        "            return False\n",
        "  \n",
        "    # Check lower diagonal on left side \n",
        "    for i, j in zip(range(row, n, 1),  \n",
        "                    range(col, -1, -1)): \n",
        "        if board[i][j] == 1: \n",
        "            return False\n",
        "\n",
        "    return True\n",
        "\n",
        "\n",
        "def  solve(n):\n",
        "    board=[[0 for i in range(n)] for j in range(n)]\n",
        "\n",
        "\n",
        "    if not solveUtility(n,board,0):\n",
        "        print('no solution')\n",
        "    else:\n",
        "        printSolution(n,board)\n",
        "\n",
        "\n",
        "def solveUtility(n, board, col):\n",
        "    if col>=n:\n",
        "        return True\n",
        "    \n",
        "    for i in range(n):\n",
        "        if isSafe(n,board,i,col):\n",
        "            board[i][col]=1\n",
        "            \n",
        "            if solveUtility(n,board,col+1):\n",
        "                return True\n",
        "            \n",
        "            board[i][col]=0\n",
        "\n",
        "    return False\n",
        "\n",
        "\n",
        "\n",
        "if __name__ == \"__main__\":\n",
        "    solve(4)"
      ],
      "execution_count": null,
      "outputs": []
    }
  ]
}
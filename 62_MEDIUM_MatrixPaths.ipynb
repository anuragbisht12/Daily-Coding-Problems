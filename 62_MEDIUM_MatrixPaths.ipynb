{
  "nbformat": 4,
  "nbformat_minor": 0,
  "metadata": {
    "colab": {
      "name": "62_MEDIUM_MatrixPaths.ipynb",
      "provenance": [],
      "collapsed_sections": [],
      "authorship_tag": "ABX9TyOmFIw++TRcu2fcxEJxRbjw",
      "include_colab_link": true
    },
    "kernelspec": {
      "name": "python3",
      "display_name": "Python 3"
    }
  },
  "cells": [
    {
      "cell_type": "markdown",
      "metadata": {
        "id": "view-in-github",
        "colab_type": "text"
      },
      "source": [
        "<a href=\"https://colab.research.google.com/github/anuragbisht12/Daily-Coding-Problems/blob/master/62_MEDIUM_MatrixPaths.ipynb\" target=\"_parent\"><img src=\"https://colab.research.google.com/assets/colab-badge.svg\" alt=\"Open In Colab\"/></a>"
      ]
    },
    {
      "cell_type": "code",
      "metadata": {
        "id": "7MsTTVfCEfZq",
        "colab_type": "code",
        "colab": {}
      },
      "source": [
        "\"\"\"\n",
        "This problem was asked by Facebook.\n",
        "\n",
        "There is an N by M matrix of zeroes. Given N and M, write a function to count the number of ways of \n",
        "starting at the top-left corner and getting to the bottom-right corner. You can only move right or down.\n",
        "\n",
        "For example, given a 2 by 2 matrix, you should return 2, since there are two ways to get to the bottom-right:\n",
        "\n",
        "Right, then down\n",
        "Down, then right\n",
        "Given a 5 by 5 matrix, there are 70 ways to get to the bottom-right.\n",
        "\n",
        "\"\"\"\n",
        "def matrixTraversalHelper(rowcount,columncount,currentrow,currentcolumn):\n",
        "    if currentrow == rowcount -1 and currentcolumn == rowcount -1:\n",
        "        return 1\n",
        "\n",
        "    count=0\n",
        "\n",
        "    if currentrow < rowcount -1 :\n",
        "        count+= matrixTraversalHelper(rowcount,columncount,currentrow+1,currentcolumn)\n",
        "\n",
        "    if currentcolumn < columncount -1:\n",
        "        count += matrixTraversalHelper(rowcount,columncount, currentrow, currentcolumn+1)\n",
        "\n",
        "    return count\n",
        "\n",
        "\n",
        "def matrixTraversal(rowcount,columncount):\n",
        "    if not rowcount or not columncount:\n",
        "        return None\n",
        "\n",
        "    count=matrixTraversalHelper(rowcount,columncount,0,0)\n",
        "\n",
        "    return count\n",
        "\n",
        "\n",
        "if __name__ == \"__main__\":\n",
        "    assert matrixTraversal(2,2) == 2\n",
        "    assert matrixTraversal(3,3) == 6\n",
        "    assert matrixTraversal(5,5) == 70\n",
        "\n",
        "\n"
      ],
      "execution_count": null,
      "outputs": []
    }
  ]
}